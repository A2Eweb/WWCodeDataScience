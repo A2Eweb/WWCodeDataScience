{
  "nbformat": 4,
  "nbformat_minor": 0,
  "metadata": {
    "colab": {
      "name": "Mini_DS_Bootcamp_Part3",
      "provenance": [],
      "collapsed_sections": []
    },
    "kernelspec": {
      "name": "python3",
      "display_name": "Python 3"
    }
  },
  "cells": [
    {
      "cell_type": "markdown",
      "metadata": {
        "id": "PFXQUrFtCQSr",
        "colab_type": "text"
      },
      "source": [
        "# MINI DATA SCIENCE BOOTCAMP (3/3)\n",
        "## Part 3 - Creating and Comparing ML Models\n",
        "\n",
        "We are going to focus on building 2 supervised machine learning models - **classification and regression**. We will walk through the following steps for each of these solutions\n",
        "\n",
        "1.   Feature Selection & Engineering\n",
        "2.   Performance Measures\n",
        "3.   Model Creation\n",
        "4.   Model Tuning & Optimization\n",
        "5.   Model Selection\n",
        "\n",
        "---\n",
        "\n",
        "\n",
        "### Machine Learning Models\n",
        "\n",
        "We are going to focus on 2 types of ML models in this session. Both of them are supervised in nature (labels are known and are to be predicted).\n",
        "  \n",
        "\n",
        "**Classification**\n",
        "A classification problem is when the output variable is a category (nominal), such as “red” or “blue” or “disease” and “no disease”.\n",
        "  \n",
        "**Regression**\n",
        "A regression problem is when the output variable is a real (numerical) value, such as “dollars” or “weight”.\n",
        "  \n",
        "Reference - https://towardsdatascience.com/introduction-to-machine-learning-for-beginners-eed6024fdb08\n",
        "\n",
        "---\n",
        "\n",
        "Note: This notebook will not go over what does on in the \"black-box\" of the machine learning model. Keep an eye out on our Slack channel for an upcoming event on 'Introduction to Machine Learning' that dives into the math behind the ML models.\n",
        "\n",
        "A great free online course for Machine Learning is up on Coursera and taught by Andrew Ng. This course starts on April 13th and is highly recommended - https://www.coursera.org/learn/machine-learning\n"
      ]
    },
    {
      "cell_type": "markdown",
      "metadata": {
        "id": "mIgTgmIbDYSj",
        "colab_type": "text"
      },
      "source": [
        "## Datasets"
      ]
    },
    {
      "cell_type": "markdown",
      "metadata": {
        "id": "MaFAuYj6ECi2",
        "colab_type": "text"
      },
      "source": [
        "In this section, we will import all the necessary packages and load the datasets we plan to work on. \n",
        "For this exercise, we have picked 2 datasets:\n",
        "\n",
        "\n",
        "1.   [Boston Housing Data](https://www.kaggle.com/c/boston-housing)\n",
        "2.   [Iris Dataset](https://www.kaggle.com/arshid/iris-flower-dataset)\n",
        "\n",
        "Both these datasets are available through sklearn, you would not need to download them separately.\n",
        "\n"
      ]
    },
    {
      "cell_type": "code",
      "metadata": {
        "id": "hSd-RNA2Az6v",
        "colab_type": "code",
        "outputId": "d9260794-362d-45d4-e30e-5735fde0786c",
        "colab": {
          "base_uri": "https://localhost:8080/",
          "height": 51
        }
      },
      "source": [
        "#Import all the necessary packages\n",
        "import pandas as pd\n",
        "import numpy as np\n",
        "from sklearn import datasets\n",
        "from sklearn import preprocessing\n",
        "from sklearn.naive_bayes import GaussianNB\n",
        "from sklearn import model_selection\n",
        "from sklearn.model_selection import train_test_split\n",
        "from sklearn.metrics import classification_report\n",
        "from sklearn.metrics import confusion_matrix\n",
        "from sklearn.metrics import accuracy_score\n",
        "from sklearn import tree\n",
        "from sklearn.ensemble import RandomForestClassifier\n",
        "from sklearn.linear_model import LinearRegression\n",
        "import seaborn as sns\n",
        "from sklearn.preprocessing import StandardScaler\n",
        "import sklearn.metrics as metrics\n",
        "from sklearn.linear_model import LogisticRegression\n",
        "from sklearn import svm\n",
        "from sklearn.ensemble import RandomForestRegressor\n",
        "from sklearn.metrics import mean_squared_error"
      ],
      "execution_count": 0,
      "outputs": [
        {
          "output_type": "stream",
          "text": [
            "/usr/local/lib/python3.6/dist-packages/statsmodels/tools/_testing.py:19: FutureWarning: pandas.util.testing is deprecated. Use the functions in the public API at pandas.testing instead.\n",
            "  import pandas.util.testing as tm\n"
          ],
          "name": "stderr"
        }
      ]
    },
    {
      "cell_type": "markdown",
      "metadata": {
        "id": "kmUN-Z7-FNhA",
        "colab_type": "text"
      },
      "source": [
        "**Load datasets and convert to Pandas DataFrame**"
      ]
    },
    {
      "cell_type": "code",
      "metadata": {
        "id": "ei85euUdA6A1",
        "colab_type": "code",
        "outputId": "0162ab73-4e5c-445f-cb0c-584d7dae51bd",
        "colab": {
          "base_uri": "https://localhost:8080/",
          "height": 221
        }
      },
      "source": [
        "#IRIS DATASET\n",
        "iris_raw = datasets.load_iris()\n",
        "\n",
        "#iris_raw is of sklearn internal datatype. Converting it to pandas dataframe so we can analyze the data easier\n",
        "iris = pd.DataFrame(iris_raw.data, columns=iris_raw.feature_names)\n",
        "#target is the predict_to column, in this case it is species and categorical in nature.\n",
        "iris['species'] = iris_raw.target\n",
        "\n",
        "print(iris.shape)\n",
        "iris.head(5)"
      ],
      "execution_count": 0,
      "outputs": [
        {
          "output_type": "stream",
          "text": [
            "(150, 5)\n"
          ],
          "name": "stdout"
        },
        {
          "output_type": "execute_result",
          "data": {
            "text/html": [
              "<div>\n",
              "<style scoped>\n",
              "    .dataframe tbody tr th:only-of-type {\n",
              "        vertical-align: middle;\n",
              "    }\n",
              "\n",
              "    .dataframe tbody tr th {\n",
              "        vertical-align: top;\n",
              "    }\n",
              "\n",
              "    .dataframe thead th {\n",
              "        text-align: right;\n",
              "    }\n",
              "</style>\n",
              "<table border=\"1\" class=\"dataframe\">\n",
              "  <thead>\n",
              "    <tr style=\"text-align: right;\">\n",
              "      <th></th>\n",
              "      <th>sepal length (cm)</th>\n",
              "      <th>sepal width (cm)</th>\n",
              "      <th>petal length (cm)</th>\n",
              "      <th>petal width (cm)</th>\n",
              "      <th>species</th>\n",
              "    </tr>\n",
              "  </thead>\n",
              "  <tbody>\n",
              "    <tr>\n",
              "      <th>0</th>\n",
              "      <td>5.1</td>\n",
              "      <td>3.5</td>\n",
              "      <td>1.4</td>\n",
              "      <td>0.2</td>\n",
              "      <td>0</td>\n",
              "    </tr>\n",
              "    <tr>\n",
              "      <th>1</th>\n",
              "      <td>4.9</td>\n",
              "      <td>3.0</td>\n",
              "      <td>1.4</td>\n",
              "      <td>0.2</td>\n",
              "      <td>0</td>\n",
              "    </tr>\n",
              "    <tr>\n",
              "      <th>2</th>\n",
              "      <td>4.7</td>\n",
              "      <td>3.2</td>\n",
              "      <td>1.3</td>\n",
              "      <td>0.2</td>\n",
              "      <td>0</td>\n",
              "    </tr>\n",
              "    <tr>\n",
              "      <th>3</th>\n",
              "      <td>4.6</td>\n",
              "      <td>3.1</td>\n",
              "      <td>1.5</td>\n",
              "      <td>0.2</td>\n",
              "      <td>0</td>\n",
              "    </tr>\n",
              "    <tr>\n",
              "      <th>4</th>\n",
              "      <td>5.0</td>\n",
              "      <td>3.6</td>\n",
              "      <td>1.4</td>\n",
              "      <td>0.2</td>\n",
              "      <td>0</td>\n",
              "    </tr>\n",
              "  </tbody>\n",
              "</table>\n",
              "</div>"
            ],
            "text/plain": [
              "   sepal length (cm)  sepal width (cm)  ...  petal width (cm)  species\n",
              "0                5.1               3.5  ...               0.2        0\n",
              "1                4.9               3.0  ...               0.2        0\n",
              "2                4.7               3.2  ...               0.2        0\n",
              "3                4.6               3.1  ...               0.2        0\n",
              "4                5.0               3.6  ...               0.2        0\n",
              "\n",
              "[5 rows x 5 columns]"
            ]
          },
          "metadata": {
            "tags": []
          },
          "execution_count": 2
        }
      ]
    },
    {
      "cell_type": "code",
      "metadata": {
        "id": "WD8anDZ5kJFi",
        "colab_type": "code",
        "outputId": "2cddfae0-7a6e-422b-bed3-418f56ee02f2",
        "colab": {
          "base_uri": "https://localhost:8080/",
          "height": 34
        }
      },
      "source": [
        "type(boston_raw)"
      ],
      "execution_count": 0,
      "outputs": [
        {
          "output_type": "execute_result",
          "data": {
            "text/plain": [
              "sklearn.utils.Bunch"
            ]
          },
          "metadata": {
            "tags": []
          },
          "execution_count": 6
        }
      ]
    },
    {
      "cell_type": "code",
      "metadata": {
        "id": "KP5i6c4yBsgC",
        "colab_type": "code",
        "outputId": "e7710faa-ca88-4d24-b9b5-c240692bebbd",
        "colab": {
          "base_uri": "https://localhost:8080/",
          "height": 221
        }
      },
      "source": [
        "#BOSTON DATASET\n",
        "boston_raw = datasets.load_boston()\n",
        "\n",
        "#boston_raw is of sklearn internal datatype. Converting it to pandas dataframe so we can analyze the data easier\n",
        "boston = pd.DataFrame(boston_raw.data, columns=boston_raw.feature_names)\n",
        "#target is the predict_to column, in this case it is medv and numerical in nature.\n",
        "boston['MEDV'] = boston_raw.target\n",
        "\n",
        "print(boston.shape)\n",
        "boston.head(5)"
      ],
      "execution_count": 0,
      "outputs": [
        {
          "output_type": "stream",
          "text": [
            "(506, 14)\n"
          ],
          "name": "stdout"
        },
        {
          "output_type": "execute_result",
          "data": {
            "text/html": [
              "<div>\n",
              "<style scoped>\n",
              "    .dataframe tbody tr th:only-of-type {\n",
              "        vertical-align: middle;\n",
              "    }\n",
              "\n",
              "    .dataframe tbody tr th {\n",
              "        vertical-align: top;\n",
              "    }\n",
              "\n",
              "    .dataframe thead th {\n",
              "        text-align: right;\n",
              "    }\n",
              "</style>\n",
              "<table border=\"1\" class=\"dataframe\">\n",
              "  <thead>\n",
              "    <tr style=\"text-align: right;\">\n",
              "      <th></th>\n",
              "      <th>CRIM</th>\n",
              "      <th>ZN</th>\n",
              "      <th>INDUS</th>\n",
              "      <th>CHAS</th>\n",
              "      <th>NOX</th>\n",
              "      <th>RM</th>\n",
              "      <th>AGE</th>\n",
              "      <th>DIS</th>\n",
              "      <th>RAD</th>\n",
              "      <th>TAX</th>\n",
              "      <th>PTRATIO</th>\n",
              "      <th>B</th>\n",
              "      <th>LSTAT</th>\n",
              "      <th>MEDV</th>\n",
              "    </tr>\n",
              "  </thead>\n",
              "  <tbody>\n",
              "    <tr>\n",
              "      <th>0</th>\n",
              "      <td>0.00632</td>\n",
              "      <td>18.0</td>\n",
              "      <td>2.31</td>\n",
              "      <td>0.0</td>\n",
              "      <td>0.538</td>\n",
              "      <td>6.575</td>\n",
              "      <td>65.2</td>\n",
              "      <td>4.0900</td>\n",
              "      <td>1.0</td>\n",
              "      <td>296.0</td>\n",
              "      <td>15.3</td>\n",
              "      <td>396.90</td>\n",
              "      <td>4.98</td>\n",
              "      <td>24.0</td>\n",
              "    </tr>\n",
              "    <tr>\n",
              "      <th>1</th>\n",
              "      <td>0.02731</td>\n",
              "      <td>0.0</td>\n",
              "      <td>7.07</td>\n",
              "      <td>0.0</td>\n",
              "      <td>0.469</td>\n",
              "      <td>6.421</td>\n",
              "      <td>78.9</td>\n",
              "      <td>4.9671</td>\n",
              "      <td>2.0</td>\n",
              "      <td>242.0</td>\n",
              "      <td>17.8</td>\n",
              "      <td>396.90</td>\n",
              "      <td>9.14</td>\n",
              "      <td>21.6</td>\n",
              "    </tr>\n",
              "    <tr>\n",
              "      <th>2</th>\n",
              "      <td>0.02729</td>\n",
              "      <td>0.0</td>\n",
              "      <td>7.07</td>\n",
              "      <td>0.0</td>\n",
              "      <td>0.469</td>\n",
              "      <td>7.185</td>\n",
              "      <td>61.1</td>\n",
              "      <td>4.9671</td>\n",
              "      <td>2.0</td>\n",
              "      <td>242.0</td>\n",
              "      <td>17.8</td>\n",
              "      <td>392.83</td>\n",
              "      <td>4.03</td>\n",
              "      <td>34.7</td>\n",
              "    </tr>\n",
              "    <tr>\n",
              "      <th>3</th>\n",
              "      <td>0.03237</td>\n",
              "      <td>0.0</td>\n",
              "      <td>2.18</td>\n",
              "      <td>0.0</td>\n",
              "      <td>0.458</td>\n",
              "      <td>6.998</td>\n",
              "      <td>45.8</td>\n",
              "      <td>6.0622</td>\n",
              "      <td>3.0</td>\n",
              "      <td>222.0</td>\n",
              "      <td>18.7</td>\n",
              "      <td>394.63</td>\n",
              "      <td>2.94</td>\n",
              "      <td>33.4</td>\n",
              "    </tr>\n",
              "    <tr>\n",
              "      <th>4</th>\n",
              "      <td>0.06905</td>\n",
              "      <td>0.0</td>\n",
              "      <td>2.18</td>\n",
              "      <td>0.0</td>\n",
              "      <td>0.458</td>\n",
              "      <td>7.147</td>\n",
              "      <td>54.2</td>\n",
              "      <td>6.0622</td>\n",
              "      <td>3.0</td>\n",
              "      <td>222.0</td>\n",
              "      <td>18.7</td>\n",
              "      <td>396.90</td>\n",
              "      <td>5.33</td>\n",
              "      <td>36.2</td>\n",
              "    </tr>\n",
              "  </tbody>\n",
              "</table>\n",
              "</div>"
            ],
            "text/plain": [
              "      CRIM    ZN  INDUS  CHAS    NOX  ...    TAX  PTRATIO       B  LSTAT  MEDV\n",
              "0  0.00632  18.0   2.31   0.0  0.538  ...  296.0     15.3  396.90   4.98  24.0\n",
              "1  0.02731   0.0   7.07   0.0  0.469  ...  242.0     17.8  396.90   9.14  21.6\n",
              "2  0.02729   0.0   7.07   0.0  0.469  ...  242.0     17.8  392.83   4.03  34.7\n",
              "3  0.03237   0.0   2.18   0.0  0.458  ...  222.0     18.7  394.63   2.94  33.4\n",
              "4  0.06905   0.0   2.18   0.0  0.458  ...  222.0     18.7  396.90   5.33  36.2\n",
              "\n",
              "[5 rows x 14 columns]"
            ]
          },
          "metadata": {
            "tags": []
          },
          "execution_count": 3
        }
      ]
    },
    {
      "cell_type": "markdown",
      "metadata": {
        "id": "YOYMPnUPE9MT",
        "colab_type": "text"
      },
      "source": [
        "### Splitting your Data"
      ]
    },
    {
      "cell_type": "markdown",
      "metadata": {
        "id": "U_SLUvdjFF3n",
        "colab_type": "text"
      },
      "source": [
        "In Machine Learning problems, we split the datasets into 2 parts to make the model creation and testing most efficient\n",
        "\n",
        "\n",
        "1.   Training - 80%\n",
        "2.   Testing - 20%\n",
        "\n",
        "We create a model on 80% of the data with no knowledge on the data in the 20% to see if the hypothesis we formulate on the 80% can truly be generalized for the dataset. Therefore, we will not conduct any analysis on the test data and will not know any information on this.\n",
        "\n",
        "Your model is trained on 80% of the data and this model is experimented with the 20% data to generate metrics on the model performance.\n",
        "\n",
        "Let us split our datasets into train and test accordingly"
      ]
    },
    {
      "cell_type": "code",
      "metadata": {
        "id": "TZGXCLZThB0X",
        "colab_type": "code",
        "outputId": "1364b842-26a6-4237-e85b-c26db3cd8cc4",
        "colab": {
          "base_uri": "https://localhost:8080/",
          "height": 68
        }
      },
      "source": [
        "#IRIS DATASET\n",
        "iris_train,iris_test = model_selection.train_test_split(iris,test_size=0.2)\n",
        "print(\"IRIS DATASET: \" + str(len(iris)) + \" rows\")\n",
        "print(\"Train = \" + str(len(iris_train)) + \" rows\")\n",
        "print(\"Test = \" + str(len(iris_test)) + \" rows\")\n",
        "\n",
        "#Resetting index for prediction time\n",
        "iris_train = iris_train.reset_index(drop=True)\n",
        "iris_test = iris_test.reset_index(drop=True)"
      ],
      "execution_count": 0,
      "outputs": [
        {
          "output_type": "stream",
          "text": [
            "IRIS DATASET: 150 rows\n",
            "Train = 120 rows\n",
            "Test = 30 rows\n"
          ],
          "name": "stdout"
        }
      ]
    },
    {
      "cell_type": "code",
      "metadata": {
        "id": "sXvBVBuNhTid",
        "colab_type": "code",
        "outputId": "001caa28-f8dd-441b-bbf3-c7f03a3db834",
        "colab": {
          "base_uri": "https://localhost:8080/",
          "height": 68
        }
      },
      "source": [
        "#BOSTON DATASET\n",
        "boston_train,boston_test = model_selection.train_test_split(boston,test_size=0.2)\n",
        "print(\"BOSTON DATASET: \" + str(len(boston)) + \" rows\")\n",
        "print(\"Train = \" + str(len(boston_train)) + \" rows\")\n",
        "print(\"Test = \" + str(len(boston_test)) + \" rows\")\n",
        "\n",
        "#Resetting index for prediction time\n",
        "boston_train = boston_train.reset_index(drop=True)\n",
        "boston_test = boston_test.reset_index(drop=True)"
      ],
      "execution_count": 0,
      "outputs": [
        {
          "output_type": "stream",
          "text": [
            "BOSTON DATASET: 506 rows\n",
            "Train = 404 rows\n",
            "Test = 102 rows\n"
          ],
          "name": "stdout"
        }
      ]
    },
    {
      "cell_type": "markdown",
      "metadata": {
        "id": "cK4WISk52pyG",
        "colab_type": "text"
      },
      "source": [
        "Now your data is ready to start the feature selection and engineering process."
      ]
    },
    {
      "cell_type": "markdown",
      "metadata": {
        "id": "2E_lkpgE2Yht",
        "colab_type": "text"
      },
      "source": [
        "## Feature Selection & Engineering"
      ]
    },
    {
      "cell_type": "markdown",
      "metadata": {
        "id": "F1BAECIprkew",
        "colab_type": "text"
      },
      "source": [
        "We need to decide which features (columns) to use to make predictions. Even though the datasets we are using are smaller in nature, in real life we would tend to work on problems which have multiple columns in the data which would require analysis to see which columns would make sense to create the model with.\n",
        "\n",
        "We will conduct this analysis ONLY on the training data.\n",
        "\n",
        "**Curse of Dimensionality**\n",
        "\n",
        "\n",
        "The curse of dimensionality refers to various phenomena that arise when analyzing and organizing data in high-dimensional spaces (often with hundreds or thousands of dimensions) that do not occur in low-dimensional settings such as the three-dimensional physical space of everyday experience. \n",
        "\n",
        "As the dimensionality increases, the volume of the space increases so fast that the available data become sparse. This sparsity is problematic for any method that requires statistical significance.\n",
        "\n",
        "Therefore it is essential to quality control the data that is being fed to the model.\n",
        "\n",
        "Reference - https://en.wikipedia.org/wiki/Curse_of_dimensionality"
      ]
    },
    {
      "cell_type": "markdown",
      "metadata": {
        "id": "T-Bqo7LA0RD8",
        "colab_type": "text"
      },
      "source": [
        "### Feature Engineering"
      ]
    },
    {
      "cell_type": "markdown",
      "metadata": {
        "id": "CvlA9FeHpxIf",
        "colab_type": "text"
      },
      "source": [
        "**Null Handling**\n",
        "\n",
        "\n",
        "Do either of the datasets have any null values that need to be handled/imputed?"
      ]
    },
    {
      "cell_type": "code",
      "metadata": {
        "id": "jryFJgRjraCI",
        "colab_type": "code",
        "outputId": "b61074d3-14ea-43f6-bc0b-40a4103e63ea",
        "colab": {
          "base_uri": "https://localhost:8080/",
          "height": 119
        }
      },
      "source": [
        "iris_train.isnull().sum()"
      ],
      "execution_count": 0,
      "outputs": [
        {
          "output_type": "execute_result",
          "data": {
            "text/plain": [
              "sepal length (cm)    0\n",
              "sepal width (cm)     0\n",
              "petal length (cm)    0\n",
              "petal width (cm)     0\n",
              "species              0\n",
              "dtype: int64"
            ]
          },
          "metadata": {
            "tags": []
          },
          "execution_count": 7
        }
      ]
    },
    {
      "cell_type": "markdown",
      "metadata": {
        "id": "RNEiKZsBrrd9",
        "colab_type": "text"
      },
      "source": [
        "There are no null values to be handled in the iris dataset"
      ]
    },
    {
      "cell_type": "code",
      "metadata": {
        "id": "v5rMFUNUrvbm",
        "colab_type": "code",
        "outputId": "515532ff-5fa0-4cd8-c9ba-fdcc3e196afd",
        "colab": {
          "base_uri": "https://localhost:8080/",
          "height": 272
        }
      },
      "source": [
        "boston_train.isnull().sum()"
      ],
      "execution_count": 0,
      "outputs": [
        {
          "output_type": "execute_result",
          "data": {
            "text/plain": [
              "CRIM       0\n",
              "ZN         0\n",
              "INDUS      0\n",
              "CHAS       0\n",
              "NOX        0\n",
              "RM         0\n",
              "AGE        0\n",
              "DIS        0\n",
              "RAD        0\n",
              "TAX        0\n",
              "PTRATIO    0\n",
              "B          0\n",
              "LSTAT      0\n",
              "MEDV       0\n",
              "dtype: int64"
            ]
          },
          "metadata": {
            "tags": []
          },
          "execution_count": 8
        }
      ]
    },
    {
      "cell_type": "markdown",
      "metadata": {
        "id": "D7hWE5FntHXu",
        "colab_type": "text"
      },
      "source": [
        "There are no null values to be handled in the boston dataset either"
      ]
    },
    {
      "cell_type": "markdown",
      "metadata": {
        "id": "JSPZnpqS0a4a",
        "colab_type": "text"
      },
      "source": [
        "Let us take a look at the boston dataset"
      ]
    },
    {
      "cell_type": "code",
      "metadata": {
        "id": "N5w2ulOz_CSX",
        "colab_type": "code",
        "outputId": "792fd814-1edc-473c-bdda-9288f845222c",
        "colab": {
          "base_uri": "https://localhost:8080/",
          "height": 317
        }
      },
      "source": [
        "boston_train.describe()"
      ],
      "execution_count": 0,
      "outputs": [
        {
          "output_type": "execute_result",
          "data": {
            "text/html": [
              "<div>\n",
              "<style scoped>\n",
              "    .dataframe tbody tr th:only-of-type {\n",
              "        vertical-align: middle;\n",
              "    }\n",
              "\n",
              "    .dataframe tbody tr th {\n",
              "        vertical-align: top;\n",
              "    }\n",
              "\n",
              "    .dataframe thead th {\n",
              "        text-align: right;\n",
              "    }\n",
              "</style>\n",
              "<table border=\"1\" class=\"dataframe\">\n",
              "  <thead>\n",
              "    <tr style=\"text-align: right;\">\n",
              "      <th></th>\n",
              "      <th>CRIM</th>\n",
              "      <th>ZN</th>\n",
              "      <th>INDUS</th>\n",
              "      <th>CHAS</th>\n",
              "      <th>NOX</th>\n",
              "      <th>RM</th>\n",
              "      <th>AGE</th>\n",
              "      <th>DIS</th>\n",
              "      <th>RAD</th>\n",
              "      <th>TAX</th>\n",
              "      <th>PTRATIO</th>\n",
              "      <th>B</th>\n",
              "      <th>LSTAT</th>\n",
              "      <th>MEDV</th>\n",
              "    </tr>\n",
              "  </thead>\n",
              "  <tbody>\n",
              "    <tr>\n",
              "      <th>count</th>\n",
              "      <td>404.000000</td>\n",
              "      <td>404.000000</td>\n",
              "      <td>404.000000</td>\n",
              "      <td>404.000000</td>\n",
              "      <td>404.000000</td>\n",
              "      <td>404.000000</td>\n",
              "      <td>404.000000</td>\n",
              "      <td>404.000000</td>\n",
              "      <td>404.000000</td>\n",
              "      <td>404.000000</td>\n",
              "      <td>404.000000</td>\n",
              "      <td>404.000000</td>\n",
              "      <td>404.000000</td>\n",
              "      <td>404.000000</td>\n",
              "    </tr>\n",
              "    <tr>\n",
              "      <th>mean</th>\n",
              "      <td>3.546971</td>\n",
              "      <td>11.867574</td>\n",
              "      <td>11.145668</td>\n",
              "      <td>0.064356</td>\n",
              "      <td>0.554346</td>\n",
              "      <td>6.264069</td>\n",
              "      <td>68.618564</td>\n",
              "      <td>3.819367</td>\n",
              "      <td>9.673267</td>\n",
              "      <td>410.324257</td>\n",
              "      <td>18.461139</td>\n",
              "      <td>358.536955</td>\n",
              "      <td>12.773416</td>\n",
              "      <td>22.468812</td>\n",
              "    </tr>\n",
              "    <tr>\n",
              "      <th>std</th>\n",
              "      <td>8.439055</td>\n",
              "      <td>24.090538</td>\n",
              "      <td>6.806663</td>\n",
              "      <td>0.245691</td>\n",
              "      <td>0.114440</td>\n",
              "      <td>0.677911</td>\n",
              "      <td>28.376725</td>\n",
              "      <td>2.134323</td>\n",
              "      <td>8.774381</td>\n",
              "      <td>168.239819</td>\n",
              "      <td>2.206611</td>\n",
              "      <td>87.576541</td>\n",
              "      <td>7.162684</td>\n",
              "      <td>8.974052</td>\n",
              "    </tr>\n",
              "    <tr>\n",
              "      <th>min</th>\n",
              "      <td>0.006320</td>\n",
              "      <td>0.000000</td>\n",
              "      <td>0.460000</td>\n",
              "      <td>0.000000</td>\n",
              "      <td>0.389000</td>\n",
              "      <td>3.561000</td>\n",
              "      <td>2.900000</td>\n",
              "      <td>1.129600</td>\n",
              "      <td>1.000000</td>\n",
              "      <td>187.000000</td>\n",
              "      <td>12.600000</td>\n",
              "      <td>0.320000</td>\n",
              "      <td>1.730000</td>\n",
              "      <td>6.300000</td>\n",
              "    </tr>\n",
              "    <tr>\n",
              "      <th>25%</th>\n",
              "      <td>0.082598</td>\n",
              "      <td>0.000000</td>\n",
              "      <td>5.175000</td>\n",
              "      <td>0.000000</td>\n",
              "      <td>0.453000</td>\n",
              "      <td>5.875000</td>\n",
              "      <td>44.850000</td>\n",
              "      <td>2.111750</td>\n",
              "      <td>4.000000</td>\n",
              "      <td>284.000000</td>\n",
              "      <td>17.000000</td>\n",
              "      <td>375.782500</td>\n",
              "      <td>6.915000</td>\n",
              "      <td>16.800000</td>\n",
              "    </tr>\n",
              "    <tr>\n",
              "      <th>50%</th>\n",
              "      <td>0.266005</td>\n",
              "      <td>0.000000</td>\n",
              "      <td>9.690000</td>\n",
              "      <td>0.000000</td>\n",
              "      <td>0.538000</td>\n",
              "      <td>6.189000</td>\n",
              "      <td>77.500000</td>\n",
              "      <td>3.167500</td>\n",
              "      <td>5.000000</td>\n",
              "      <td>330.000000</td>\n",
              "      <td>19.100000</td>\n",
              "      <td>391.305000</td>\n",
              "      <td>11.860000</td>\n",
              "      <td>21.000000</td>\n",
              "    </tr>\n",
              "    <tr>\n",
              "      <th>75%</th>\n",
              "      <td>3.793660</td>\n",
              "      <td>12.500000</td>\n",
              "      <td>18.100000</td>\n",
              "      <td>0.000000</td>\n",
              "      <td>0.624000</td>\n",
              "      <td>6.616500</td>\n",
              "      <td>94.425000</td>\n",
              "      <td>5.218725</td>\n",
              "      <td>24.000000</td>\n",
              "      <td>666.000000</td>\n",
              "      <td>20.200000</td>\n",
              "      <td>396.285000</td>\n",
              "      <td>17.120000</td>\n",
              "      <td>25.000000</td>\n",
              "    </tr>\n",
              "    <tr>\n",
              "      <th>max</th>\n",
              "      <td>88.976200</td>\n",
              "      <td>100.000000</td>\n",
              "      <td>27.740000</td>\n",
              "      <td>1.000000</td>\n",
              "      <td>0.871000</td>\n",
              "      <td>8.780000</td>\n",
              "      <td>100.000000</td>\n",
              "      <td>12.126500</td>\n",
              "      <td>24.000000</td>\n",
              "      <td>711.000000</td>\n",
              "      <td>22.000000</td>\n",
              "      <td>396.900000</td>\n",
              "      <td>37.970000</td>\n",
              "      <td>50.000000</td>\n",
              "    </tr>\n",
              "  </tbody>\n",
              "</table>\n",
              "</div>"
            ],
            "text/plain": [
              "             CRIM          ZN       INDUS  ...           B       LSTAT        MEDV\n",
              "count  404.000000  404.000000  404.000000  ...  404.000000  404.000000  404.000000\n",
              "mean     3.546971   11.867574   11.145668  ...  358.536955   12.773416   22.468812\n",
              "std      8.439055   24.090538    6.806663  ...   87.576541    7.162684    8.974052\n",
              "min      0.006320    0.000000    0.460000  ...    0.320000    1.730000    6.300000\n",
              "25%      0.082598    0.000000    5.175000  ...  375.782500    6.915000   16.800000\n",
              "50%      0.266005    0.000000    9.690000  ...  391.305000   11.860000   21.000000\n",
              "75%      3.793660   12.500000   18.100000  ...  396.285000   17.120000   25.000000\n",
              "max     88.976200  100.000000   27.740000  ...  396.900000   37.970000   50.000000\n",
              "\n",
              "[8 rows x 14 columns]"
            ]
          },
          "metadata": {
            "tags": []
          },
          "execution_count": 8
        }
      ]
    },
    {
      "cell_type": "markdown",
      "metadata": {
        "id": "YGRWGV1qC_E1",
        "colab_type": "text"
      },
      "source": [
        "Since the TAX column has a min of 187 and max of 711, we are going to use feature scaling to force the values between 0 and 1."
      ]
    },
    {
      "cell_type": "code",
      "metadata": {
        "id": "P98m3AMlDPXz",
        "colab_type": "code",
        "outputId": "7080e4e5-8d9a-42b2-b2ad-36d088df7328",
        "colab": {
          "base_uri": "https://localhost:8080/",
          "height": 51
        }
      },
      "source": [
        "min_max_scaler = preprocessing.MinMaxScaler()\n",
        "boston_train_tax = boston_train[['TAX']]\n",
        "print(\"Range before scaling: \" + str(boston_train_tax['TAX'].min()) + \" - \" + str(boston_train_tax['TAX'].max()))\n",
        "boston_train_tax = min_max_scaler.fit_transform(boston_train_tax)\n",
        "boston_train_tax_scaled = pd.DataFrame(boston_train_tax, columns=['TAX_SCALED'])\n",
        "print(\"Range after scaling: \" + str(boston_train_tax_scaled['TAX_SCALED'].min()) + \" - \" + str(boston_train_tax_scaled['TAX_SCALED'].max()))"
      ],
      "execution_count": 0,
      "outputs": [
        {
          "output_type": "stream",
          "text": [
            "Range before scaling: 187.0 - 711.0\n",
            "Range after scaling: 0.0 - 1.0\n"
          ],
          "name": "stdout"
        }
      ]
    },
    {
      "cell_type": "markdown",
      "metadata": {
        "id": "BdPSPscIEb-5",
        "colab_type": "text"
      },
      "source": [
        "Append this back to our train data"
      ]
    },
    {
      "cell_type": "code",
      "metadata": {
        "id": "N9MeiMKMEblU",
        "colab_type": "code",
        "outputId": "6104208d-ccba-4bb5-ad07-2755a0121908",
        "colab": {
          "base_uri": "https://localhost:8080/",
          "height": 204
        }
      },
      "source": [
        "boston_train = pd.concat([boston_train, boston_train_tax_scaled], axis=1)\n",
        "boston_train.head(5)"
      ],
      "execution_count": 0,
      "outputs": [
        {
          "output_type": "execute_result",
          "data": {
            "text/html": [
              "<div>\n",
              "<style scoped>\n",
              "    .dataframe tbody tr th:only-of-type {\n",
              "        vertical-align: middle;\n",
              "    }\n",
              "\n",
              "    .dataframe tbody tr th {\n",
              "        vertical-align: top;\n",
              "    }\n",
              "\n",
              "    .dataframe thead th {\n",
              "        text-align: right;\n",
              "    }\n",
              "</style>\n",
              "<table border=\"1\" class=\"dataframe\">\n",
              "  <thead>\n",
              "    <tr style=\"text-align: right;\">\n",
              "      <th></th>\n",
              "      <th>CRIM</th>\n",
              "      <th>ZN</th>\n",
              "      <th>INDUS</th>\n",
              "      <th>CHAS</th>\n",
              "      <th>NOX</th>\n",
              "      <th>RM</th>\n",
              "      <th>AGE</th>\n",
              "      <th>DIS</th>\n",
              "      <th>RAD</th>\n",
              "      <th>TAX</th>\n",
              "      <th>PTRATIO</th>\n",
              "      <th>B</th>\n",
              "      <th>LSTAT</th>\n",
              "      <th>MEDV</th>\n",
              "      <th>TAX_SCALED</th>\n",
              "    </tr>\n",
              "  </thead>\n",
              "  <tbody>\n",
              "    <tr>\n",
              "      <th>0</th>\n",
              "      <td>0.03961</td>\n",
              "      <td>0.0</td>\n",
              "      <td>5.19</td>\n",
              "      <td>0.0</td>\n",
              "      <td>0.515</td>\n",
              "      <td>6.037</td>\n",
              "      <td>34.5</td>\n",
              "      <td>5.9853</td>\n",
              "      <td>5.0</td>\n",
              "      <td>224.0</td>\n",
              "      <td>20.2</td>\n",
              "      <td>396.90</td>\n",
              "      <td>8.01</td>\n",
              "      <td>21.1</td>\n",
              "      <td>0.070611</td>\n",
              "    </tr>\n",
              "    <tr>\n",
              "      <th>1</th>\n",
              "      <td>0.04544</td>\n",
              "      <td>0.0</td>\n",
              "      <td>3.24</td>\n",
              "      <td>0.0</td>\n",
              "      <td>0.460</td>\n",
              "      <td>6.144</td>\n",
              "      <td>32.2</td>\n",
              "      <td>5.8736</td>\n",
              "      <td>4.0</td>\n",
              "      <td>430.0</td>\n",
              "      <td>16.9</td>\n",
              "      <td>368.57</td>\n",
              "      <td>9.09</td>\n",
              "      <td>19.8</td>\n",
              "      <td>0.463740</td>\n",
              "    </tr>\n",
              "    <tr>\n",
              "      <th>2</th>\n",
              "      <td>0.12579</td>\n",
              "      <td>45.0</td>\n",
              "      <td>3.44</td>\n",
              "      <td>0.0</td>\n",
              "      <td>0.437</td>\n",
              "      <td>6.556</td>\n",
              "      <td>29.1</td>\n",
              "      <td>4.5667</td>\n",
              "      <td>5.0</td>\n",
              "      <td>398.0</td>\n",
              "      <td>15.2</td>\n",
              "      <td>382.84</td>\n",
              "      <td>4.56</td>\n",
              "      <td>29.8</td>\n",
              "      <td>0.402672</td>\n",
              "    </tr>\n",
              "    <tr>\n",
              "      <th>3</th>\n",
              "      <td>0.09068</td>\n",
              "      <td>45.0</td>\n",
              "      <td>3.44</td>\n",
              "      <td>0.0</td>\n",
              "      <td>0.437</td>\n",
              "      <td>6.951</td>\n",
              "      <td>21.5</td>\n",
              "      <td>6.4798</td>\n",
              "      <td>5.0</td>\n",
              "      <td>398.0</td>\n",
              "      <td>15.2</td>\n",
              "      <td>377.68</td>\n",
              "      <td>5.10</td>\n",
              "      <td>37.0</td>\n",
              "      <td>0.402672</td>\n",
              "    </tr>\n",
              "    <tr>\n",
              "      <th>4</th>\n",
              "      <td>2.33099</td>\n",
              "      <td>0.0</td>\n",
              "      <td>19.58</td>\n",
              "      <td>0.0</td>\n",
              "      <td>0.871</td>\n",
              "      <td>5.186</td>\n",
              "      <td>93.8</td>\n",
              "      <td>1.5296</td>\n",
              "      <td>5.0</td>\n",
              "      <td>403.0</td>\n",
              "      <td>14.7</td>\n",
              "      <td>356.99</td>\n",
              "      <td>28.32</td>\n",
              "      <td>17.8</td>\n",
              "      <td>0.412214</td>\n",
              "    </tr>\n",
              "  </tbody>\n",
              "</table>\n",
              "</div>"
            ],
            "text/plain": [
              "      CRIM    ZN  INDUS  CHAS    NOX  ...  PTRATIO       B  LSTAT  MEDV  TAX_SCALED\n",
              "0  0.03961   0.0   5.19   0.0  0.515  ...     20.2  396.90   8.01  21.1    0.070611\n",
              "1  0.04544   0.0   3.24   0.0  0.460  ...     16.9  368.57   9.09  19.8    0.463740\n",
              "2  0.12579  45.0   3.44   0.0  0.437  ...     15.2  382.84   4.56  29.8    0.402672\n",
              "3  0.09068  45.0   3.44   0.0  0.437  ...     15.2  377.68   5.10  37.0    0.402672\n",
              "4  2.33099   0.0  19.58   0.0  0.871  ...     14.7  356.99  28.32  17.8    0.412214\n",
              "\n",
              "[5 rows x 15 columns]"
            ]
          },
          "metadata": {
            "tags": []
          },
          "execution_count": 11
        }
      ]
    },
    {
      "cell_type": "markdown",
      "metadata": {
        "id": "HjkDojtVIDmR",
        "colab_type": "text"
      },
      "source": [
        "**EXERCISE: Are there any new meaningful features you can generate from existing features in the Boston and Iris datasets?**"
      ]
    },
    {
      "cell_type": "markdown",
      "metadata": {
        "id": "8SEc3MuwtMco",
        "colab_type": "text"
      },
      "source": [
        "### Feature Selection"
      ]
    },
    {
      "cell_type": "markdown",
      "metadata": {
        "id": "YellBFt2uRlr",
        "colab_type": "text"
      },
      "source": [
        "In the boston dataset, are there any columns that are not useful or have very low correlation?"
      ]
    },
    {
      "cell_type": "code",
      "metadata": {
        "id": "sheloUKDtU7Z",
        "colab_type": "code",
        "outputId": "77fbda1e-6b92-42df-fed2-ebacbfbfb17c",
        "colab": {
          "base_uri": "https://localhost:8080/",
          "height": 340
        }
      },
      "source": [
        "boston_corr_matrix = boston_train.corr()\n",
        "sns.heatmap(data=boston_corr_matrix, annot=False)"
      ],
      "execution_count": 0,
      "outputs": [
        {
          "output_type": "execute_result",
          "data": {
            "text/plain": [
              "<matplotlib.axes._subplots.AxesSubplot at 0x7f4ebb379a20>"
            ]
          },
          "metadata": {
            "tags": []
          },
          "execution_count": 13
        },
        {
          "output_type": "display_data",
          "data": {
            "image/png": "[encoded data removed]",
            "text/plain": [
              "<Figure size 432x288 with 2 Axes>"
            ]
          },
          "metadata": {
            "tags": [],
            "needs_background": "light"
          }
        }
      ]
    },
    {
      "cell_type": "markdown",
      "metadata": {
        "id": "IPkByFEvyr4a",
        "colab_type": "text"
      },
      "source": [
        "Since MEDV is our predict column, we want to pick features which have a positive and negative correlation with MEDV. Adding in columns which have a low or non-existent correlation would add to our 'Curse of Dimensionality' issue.\n",
        "\n",
        "For this, let us pick only the top 4 most correlated features to MEDV for training our model."
      ]
    },
    {
      "cell_type": "code",
      "metadata": {
        "id": "7Rf6w5Dhyh9z",
        "colab_type": "code",
        "outputId": "1175f744-ec34-437e-ea54-a38698a31cb4",
        "colab": {
          "base_uri": "https://localhost:8080/",
          "height": 289
        }
      },
      "source": [
        "#printing all the correlations to MEDV in descending order\n",
        "boston_corr_matrix['MEDV'].sort_values(ascending=False)"
      ],
      "execution_count": 0,
      "outputs": [
        {
          "output_type": "execute_result",
          "data": {
            "text/plain": [
              "MEDV          1.000000\n",
              "RM            0.727971\n",
              "ZN            0.396694\n",
              "B             0.338610\n",
              "DIS           0.254722\n",
              "CHAS          0.207825\n",
              "CRIM         -0.390540\n",
              "AGE          -0.403163\n",
              "RAD          -0.415654\n",
              "NOX          -0.429592\n",
              "INDUS        -0.495864\n",
              "TAX          -0.500906\n",
              "TAX_SCALED   -0.500906\n",
              "PTRATIO      -0.578756\n",
              "LSTAT        -0.742074\n",
              "Name: MEDV, dtype: float64"
            ]
          },
          "metadata": {
            "tags": []
          },
          "execution_count": 14
        }
      ]
    },
    {
      "cell_type": "markdown",
      "metadata": {
        "id": "MLoJDOsdz04S",
        "colab_type": "text"
      },
      "source": [
        "For this, let us pick 2 variables with high positive correlation (RM,ZN) and 2 with high negative correlation (PTRATIO, INDUS).\n",
        "\n",
        "We will do this in the data pipeline section to ensure the same processes are done over the train and test datasets."
      ]
    },
    {
      "cell_type": "markdown",
      "metadata": {
        "id": "FKetx8K9f9BO",
        "colab_type": "text"
      },
      "source": [
        "**EXERCISE: Does Iris dataset need any feature selection?**"
      ]
    },
    {
      "cell_type": "markdown",
      "metadata": {
        "id": "RBOFQfbPtoti",
        "colab_type": "text"
      },
      "source": [
        "### Data Pipeline"
      ]
    },
    {
      "cell_type": "markdown",
      "metadata": {
        "id": "YUr5pgtrnDYX",
        "colab_type": "text"
      },
      "source": [
        "It is important to ensure your data pipeline is in place so that operations done on one dataset can be replicated across any other dataset. When doing any feature engineering, this code can be deployed on any dataset to ensure consistency in the experimentation.\n",
        "\n",
        "We need to replicate the feature engineering that was done on the train data over our test data. This would be easy if the code is written is a very general way."
      ]
    },
    {
      "cell_type": "code",
      "metadata": {
        "id": "ZUaG9YWB8pHQ",
        "colab_type": "code",
        "colab": {}
      },
      "source": [
        "#In our boston dataset, we added a new column called TAX_SCALED on our train data. We need to replicate it on test.\n",
        "#Generalized the code from above into a function format so we can replicate it on our test dataset.\n",
        "def scaleColumn(df,column_name):\n",
        "  min_max_scaler = preprocessing.MinMaxScaler()\n",
        "  df_col = df[[column_name]]\n",
        "  print(\"Range before scaling: \" + str(df_col[column_name].min()) + \" - \" + str(df_col[column_name].max()))\n",
        "  df_col_scaled = pd.DataFrame(min_max_scaler.fit_transform(df_col), columns=[column_name + \"_SCALED\"])\n",
        "  new_df = pd.concat([df, df_col_scaled], axis=1)\n",
        "  #print(\"Range after scaling: \" + str(df_col[column_name + \"_SCALED\"].min()) + \" - \" + str(df_col[column_name + \"_SCALED\"].max()))\n",
        "  return new_df"
      ],
      "execution_count": 0,
      "outputs": []
    },
    {
      "cell_type": "code",
      "metadata": {
        "id": "XjmS0tT8KnSA",
        "colab_type": "code",
        "outputId": "b82f9710-f1bc-4847-cea2-4ab21c4b52c8",
        "colab": {
          "base_uri": "https://localhost:8080/",
          "height": 221
        }
      },
      "source": [
        "boston_test = scaleColumn(boston_test,'TAX')\n",
        "boston_test.head(5)"
      ],
      "execution_count": 0,
      "outputs": [
        {
          "output_type": "stream",
          "text": [
            "Range before scaling: 188.0 - 666.0\n"
          ],
          "name": "stdout"
        },
        {
          "output_type": "execute_result",
          "data": {
            "text/html": [
              "<div>\n",
              "<style scoped>\n",
              "    .dataframe tbody tr th:only-of-type {\n",
              "        vertical-align: middle;\n",
              "    }\n",
              "\n",
              "    .dataframe tbody tr th {\n",
              "        vertical-align: top;\n",
              "    }\n",
              "\n",
              "    .dataframe thead th {\n",
              "        text-align: right;\n",
              "    }\n",
              "</style>\n",
              "<table border=\"1\" class=\"dataframe\">\n",
              "  <thead>\n",
              "    <tr style=\"text-align: right;\">\n",
              "      <th></th>\n",
              "      <th>CRIM</th>\n",
              "      <th>ZN</th>\n",
              "      <th>INDUS</th>\n",
              "      <th>CHAS</th>\n",
              "      <th>NOX</th>\n",
              "      <th>RM</th>\n",
              "      <th>AGE</th>\n",
              "      <th>DIS</th>\n",
              "      <th>RAD</th>\n",
              "      <th>TAX</th>\n",
              "      <th>PTRATIO</th>\n",
              "      <th>B</th>\n",
              "      <th>LSTAT</th>\n",
              "      <th>MEDV</th>\n",
              "      <th>TAX_SCALED</th>\n",
              "    </tr>\n",
              "  </thead>\n",
              "  <tbody>\n",
              "    <tr>\n",
              "      <th>0</th>\n",
              "      <td>0.04379</td>\n",
              "      <td>80.0</td>\n",
              "      <td>3.37</td>\n",
              "      <td>0.0</td>\n",
              "      <td>0.398</td>\n",
              "      <td>5.787</td>\n",
              "      <td>31.1</td>\n",
              "      <td>6.6115</td>\n",
              "      <td>4.0</td>\n",
              "      <td>337.0</td>\n",
              "      <td>16.1</td>\n",
              "      <td>396.90</td>\n",
              "      <td>10.24</td>\n",
              "      <td>19.4</td>\n",
              "      <td>0.311715</td>\n",
              "    </tr>\n",
              "    <tr>\n",
              "      <th>1</th>\n",
              "      <td>0.28960</td>\n",
              "      <td>0.0</td>\n",
              "      <td>9.69</td>\n",
              "      <td>0.0</td>\n",
              "      <td>0.585</td>\n",
              "      <td>5.390</td>\n",
              "      <td>72.9</td>\n",
              "      <td>2.7986</td>\n",
              "      <td>6.0</td>\n",
              "      <td>391.0</td>\n",
              "      <td>19.2</td>\n",
              "      <td>396.90</td>\n",
              "      <td>21.14</td>\n",
              "      <td>19.7</td>\n",
              "      <td>0.424686</td>\n",
              "    </tr>\n",
              "    <tr>\n",
              "      <th>2</th>\n",
              "      <td>4.89822</td>\n",
              "      <td>0.0</td>\n",
              "      <td>18.10</td>\n",
              "      <td>0.0</td>\n",
              "      <td>0.631</td>\n",
              "      <td>4.970</td>\n",
              "      <td>100.0</td>\n",
              "      <td>1.3325</td>\n",
              "      <td>24.0</td>\n",
              "      <td>666.0</td>\n",
              "      <td>20.2</td>\n",
              "      <td>375.52</td>\n",
              "      <td>3.26</td>\n",
              "      <td>50.0</td>\n",
              "      <td>1.000000</td>\n",
              "    </tr>\n",
              "    <tr>\n",
              "      <th>3</th>\n",
              "      <td>0.27957</td>\n",
              "      <td>0.0</td>\n",
              "      <td>9.69</td>\n",
              "      <td>0.0</td>\n",
              "      <td>0.585</td>\n",
              "      <td>5.926</td>\n",
              "      <td>42.6</td>\n",
              "      <td>2.3817</td>\n",
              "      <td>6.0</td>\n",
              "      <td>391.0</td>\n",
              "      <td>19.2</td>\n",
              "      <td>396.90</td>\n",
              "      <td>13.59</td>\n",
              "      <td>24.5</td>\n",
              "      <td>0.424686</td>\n",
              "    </tr>\n",
              "    <tr>\n",
              "      <th>4</th>\n",
              "      <td>0.26838</td>\n",
              "      <td>0.0</td>\n",
              "      <td>9.69</td>\n",
              "      <td>0.0</td>\n",
              "      <td>0.585</td>\n",
              "      <td>5.794</td>\n",
              "      <td>70.6</td>\n",
              "      <td>2.8927</td>\n",
              "      <td>6.0</td>\n",
              "      <td>391.0</td>\n",
              "      <td>19.2</td>\n",
              "      <td>396.90</td>\n",
              "      <td>14.10</td>\n",
              "      <td>18.3</td>\n",
              "      <td>0.424686</td>\n",
              "    </tr>\n",
              "  </tbody>\n",
              "</table>\n",
              "</div>"
            ],
            "text/plain": [
              "      CRIM    ZN  INDUS  CHAS    NOX  ...  PTRATIO       B  LSTAT  MEDV  TAX_SCALED\n",
              "0  0.04379  80.0   3.37   0.0  0.398  ...     16.1  396.90  10.24  19.4    0.311715\n",
              "1  0.28960   0.0   9.69   0.0  0.585  ...     19.2  396.90  21.14  19.7    0.424686\n",
              "2  4.89822   0.0  18.10   0.0  0.631  ...     20.2  375.52   3.26  50.0    1.000000\n",
              "3  0.27957   0.0   9.69   0.0  0.585  ...     19.2  396.90  13.59  24.5    0.424686\n",
              "4  0.26838   0.0   9.69   0.0  0.585  ...     19.2  396.90  14.10  18.3    0.424686\n",
              "\n",
              "[5 rows x 15 columns]"
            ]
          },
          "metadata": {
            "tags": []
          },
          "execution_count": 22
        }
      ]
    },
    {
      "cell_type": "markdown",
      "metadata": {
        "id": "VqY3-ZtCKz8n",
        "colab_type": "text"
      },
      "source": [
        "If you have done any other operations on your data, generalize it to a function which can be applied to both your train and test datasets.\n",
        "\n",
        "**EXERCISE: Generalize any other data operations you have done on your training data**"
      ]
    },
    {
      "cell_type": "markdown",
      "metadata": {
        "id": "a04lcHfzLxu7",
        "colab_type": "text"
      },
      "source": [
        "## Split Data into Features and Labels"
      ]
    },
    {
      "cell_type": "markdown",
      "metadata": {
        "id": "6vIJRU3sL217",
        "colab_type": "text"
      },
      "source": [
        "For machine learning problems, you need to split your data into features and labels.\n",
        "\n",
        "\n",
        "1.   Features - Input X to the model\n",
        "2.   Label - Expected output Y\n",
        "\n",
        "Therefore, we will further split these train and test datasets by columns, so that for every dataset we have **features** and **labels** to denote if they are the input columns or the predict to columns\n",
        "\n"
      ]
    },
    {
      "cell_type": "markdown",
      "metadata": {
        "id": "IKxj462JMJbY",
        "colab_type": "text"
      },
      "source": [
        "For the Iris dataset, we are going to use all the columns as input features and predict 'species'"
      ]
    },
    {
      "cell_type": "code",
      "metadata": {
        "id": "0o_3XywdMPFj",
        "colab_type": "code",
        "outputId": "533460dd-d916-4f73-f5c6-32d7c30f5a66",
        "colab": {
          "base_uri": "https://localhost:8080/",
          "height": 102
        }
      },
      "source": [
        "#define input and predict to columns\n",
        "iris_features = ['sepal length (cm)', 'sepal width (cm)', 'petal length (cm)', 'petal width (cm)']\n",
        "iris_labels = ['species']\n",
        "\n",
        "print('IRIS DATASET')\n",
        "print(\"Features - \" + str(iris_features))\n",
        "print(\"Labels - \" + str(iris_labels))\n",
        "\n",
        "iris_train_features = iris_train[iris_features]\n",
        "iris_train_labels = iris_train[iris_labels]\n",
        "print('✔ Train data split into features and labels')\n",
        "\n",
        "iris_test_features = iris_test[iris_features]\n",
        "iris_test_labels = iris_test[iris_labels]\n",
        "print('✔ Test data split into features and labels')"
      ],
      "execution_count": 0,
      "outputs": [
        {
          "output_type": "stream",
          "text": [
            "IRIS DATASET\n",
            "Features - ['sepal length (cm)', 'sepal width (cm)', 'petal length (cm)', 'petal width (cm)']\n",
            "Labels - ['species']\n",
            "✔ Train data split into features and labels\n",
            "✔ Test data split into features and labels\n"
          ],
          "name": "stdout"
        }
      ]
    },
    {
      "cell_type": "markdown",
      "metadata": {
        "id": "k9Qk_D6AMd0b",
        "colab_type": "text"
      },
      "source": [
        "For the Boston dataset, we are going to use only input columns we selected from the Feature Selection process (RM, ZN, PTRATIO, INDUS) and the output column would be 'MEDV'"
      ]
    },
    {
      "cell_type": "code",
      "metadata": {
        "id": "ddLpWtflMuEx",
        "colab_type": "code",
        "outputId": "81031b2d-2007-446e-d7ae-54deb749529a",
        "colab": {
          "base_uri": "https://localhost:8080/",
          "height": 102
        }
      },
      "source": [
        "#define input and predict to ccolumns\n",
        "boston_features = ['RM', 'ZN', 'PTRATIO', 'INDUS']\n",
        "boston_labels = ['MEDV']\n",
        "\n",
        "print('BOSTON DATASET')\n",
        "print(\"Features - \" + str(boston_features))\n",
        "print(\"Labels - \" + str(boston_labels))\n",
        "\n",
        "boston_train_features = boston_train[boston_features]\n",
        "boston_train_labels = boston_train[boston_labels]\n",
        "print('✔ Train data split into features and labels')\n",
        "\n",
        "boston_test_features = boston_test[boston_features]\n",
        "boston_test_labels = boston_test[boston_labels]\n",
        "print('✔ Test data split into features and labels')"
      ],
      "execution_count": 0,
      "outputs": [
        {
          "output_type": "stream",
          "text": [
            "BOSTON DATASET\n",
            "Features - ['RM', 'ZN', 'PTRATIO', 'INDUS']\n",
            "Labels - ['MEDV']\n",
            "✔ Train data split into features and labels\n",
            "✔ Test data split into features and labels\n"
          ],
          "name": "stdout"
        }
      ]
    },
    {
      "cell_type": "markdown",
      "metadata": {
        "id": "J8BoS1PUcVNk",
        "colab_type": "text"
      },
      "source": [
        "## Model Creation"
      ]
    },
    {
      "cell_type": "markdown",
      "metadata": {
        "id": "cOe_sC-x3rs7",
        "colab_type": "text"
      },
      "source": [
        "### Classification with Iris Data\n",
        "\n",
        "We are going to use 3 different classification models for this exercise\n",
        "\n",
        "1.   Naive Bayes\n",
        "2.   Decision Trees\n",
        "1.   Random Forest"
      ]
    },
    {
      "cell_type": "markdown",
      "metadata": {
        "id": "fxYW1vA-4GVi",
        "colab_type": "text"
      },
      "source": [
        "#### Gaussian Naive Bayes\n",
        "Documentation at https://scikit-learn.org/stable/modules/generated/sklearn.naive_bayes.GaussianNB.html"
      ]
    },
    {
      "cell_type": "code",
      "metadata": {
        "id": "jcIYRehviVmq",
        "colab_type": "code",
        "outputId": "344618d9-ca5e-4f2c-cbc8-4355fd79a3df",
        "colab": {
          "base_uri": "https://localhost:8080/",
          "height": 88
        }
      },
      "source": [
        "#Create the model object and train\n",
        "gnb = GaussianNB()\n",
        "gnb.fit(iris_train_features, iris_train_labels)"
      ],
      "execution_count": 0,
      "outputs": [
        {
          "output_type": "stream",
          "text": [
            "/usr/local/lib/python3.6/dist-packages/sklearn/naive_bayes.py:206: DataConversionWarning: A column-vector y was passed when a 1d array was expected. Please change the shape of y to (n_samples, ), for example using ravel().\n",
            "  y = column_or_1d(y, warn=True)\n"
          ],
          "name": "stderr"
        },
        {
          "output_type": "execute_result",
          "data": {
            "text/plain": [
              "GaussianNB(priors=None, var_smoothing=1e-09)"
            ]
          },
          "metadata": {
            "tags": []
          },
          "execution_count": 25
        }
      ]
    },
    {
      "cell_type": "code",
      "metadata": {
        "id": "11UR4z13jBpF",
        "colab_type": "code",
        "outputId": "d67d84d2-1df3-4a17-af38-68f89290b36e",
        "colab": {
          "base_uri": "https://localhost:8080/",
          "height": 51
        }
      },
      "source": [
        "#Predictions on the Test data\n",
        "predictions_gnb = gnb.predict(iris_test_features)\n",
        "predictions_gnb"
      ],
      "execution_count": 0,
      "outputs": [
        {
          "output_type": "execute_result",
          "data": {
            "text/plain": [
              "array([0, 2, 1, 2, 1, 0, 2, 0, 2, 0, 0, 2, 1, 0, 1, 1, 2, 0, 0, 2, 1, 2,\n",
              "       2, 2, 2, 0, 0, 0, 0, 0])"
            ]
          },
          "metadata": {
            "tags": []
          },
          "execution_count": 26
        }
      ]
    },
    {
      "cell_type": "code",
      "metadata": {
        "id": "8qIPCeXtjNBm",
        "colab_type": "code",
        "outputId": "8e24c381-04a5-4f6e-b8b9-20c4e0f5acbe",
        "colab": {
          "base_uri": "https://localhost:8080/",
          "height": 153
        }
      },
      "source": [
        "#Getting the probabilities for these predictions\n",
        "predictions_probability_gnb = gnb.predict_proba(iris_test_features)[:, 1]\n",
        "predictions_probability_gnb"
      ],
      "execution_count": 0,
      "outputs": [
        {
          "output_type": "execute_result",
          "data": {
            "text/plain": [
              "array([4.33260924e-15, 2.78134767e-01, 9.99736205e-01, 4.33800895e-07,\n",
              "       8.67399599e-01, 5.54769159e-12, 1.03329074e-11, 1.36798027e-15,\n",
              "       1.31226446e-08, 1.47213875e-16, 2.13010845e-19, 2.91092823e-12,\n",
              "       9.99998483e-01, 3.16198233e-22, 9.11272788e-01, 9.84427347e-01,\n",
              "       2.64640692e-10, 5.44869701e-19, 6.46286281e-20, 8.42216568e-08,\n",
              "       6.80842285e-01, 6.82117359e-02, 4.70098903e-04, 1.81178522e-08,\n",
              "       8.43830023e-05, 3.46221362e-15, 3.28503778e-20, 2.10661896e-17,\n",
              "       1.72787957e-20, 7.56014445e-19])"
            ]
          },
          "metadata": {
            "tags": []
          },
          "execution_count": 27
        }
      ]
    },
    {
      "cell_type": "code",
      "metadata": {
        "id": "EAyxFlHMkwJ3",
        "colab_type": "code",
        "outputId": "3f49a8f9-52b7-466c-c28f-bc46adcc20e0",
        "colab": {
          "base_uri": "https://localhost:8080/",
          "height": 204
        }
      },
      "source": [
        "#Putting the above 2 cells together to create a readable df\n",
        "gnb_df = pd.DataFrame(predictions_gnb.reshape(len(predictions_gnb),1))\n",
        "gnb_df.rename(columns={0:'gnb_prediction'}, inplace=True)\n",
        "gnb_df['gnb_probability'] = predictions_probability_gnb\n",
        "gnb_df.head(5)"
      ],
      "execution_count": 0,
      "outputs": [
        {
          "output_type": "execute_result",
          "data": {
            "text/html": [
              "<div>\n",
              "<style scoped>\n",
              "    .dataframe tbody tr th:only-of-type {\n",
              "        vertical-align: middle;\n",
              "    }\n",
              "\n",
              "    .dataframe tbody tr th {\n",
              "        vertical-align: top;\n",
              "    }\n",
              "\n",
              "    .dataframe thead th {\n",
              "        text-align: right;\n",
              "    }\n",
              "</style>\n",
              "<table border=\"1\" class=\"dataframe\">\n",
              "  <thead>\n",
              "    <tr style=\"text-align: right;\">\n",
              "      <th></th>\n",
              "      <th>gnb_prediction</th>\n",
              "      <th>gnb_probability</th>\n",
              "    </tr>\n",
              "  </thead>\n",
              "  <tbody>\n",
              "    <tr>\n",
              "      <th>0</th>\n",
              "      <td>0</td>\n",
              "      <td>4.332609e-15</td>\n",
              "    </tr>\n",
              "    <tr>\n",
              "      <th>1</th>\n",
              "      <td>2</td>\n",
              "      <td>2.781348e-01</td>\n",
              "    </tr>\n",
              "    <tr>\n",
              "      <th>2</th>\n",
              "      <td>1</td>\n",
              "      <td>9.997362e-01</td>\n",
              "    </tr>\n",
              "    <tr>\n",
              "      <th>3</th>\n",
              "      <td>2</td>\n",
              "      <td>4.338009e-07</td>\n",
              "    </tr>\n",
              "    <tr>\n",
              "      <th>4</th>\n",
              "      <td>1</td>\n",
              "      <td>8.673996e-01</td>\n",
              "    </tr>\n",
              "  </tbody>\n",
              "</table>\n",
              "</div>"
            ],
            "text/plain": [
              "   gnb_prediction  gnb_probability\n",
              "0               0     4.332609e-15\n",
              "1               2     2.781348e-01\n",
              "2               1     9.997362e-01\n",
              "3               2     4.338009e-07\n",
              "4               1     8.673996e-01"
            ]
          },
          "metadata": {
            "tags": []
          },
          "execution_count": 28
        }
      ]
    },
    {
      "cell_type": "code",
      "metadata": {
        "id": "LscltWDQluvU",
        "colab_type": "code",
        "outputId": "db8c4cbb-d435-4167-b919-8c538acd8c80",
        "colab": {
          "base_uri": "https://localhost:8080/",
          "height": 204
        }
      },
      "source": [
        "#Concatonating the predictions of naive bayes to the iris_test dataset\n",
        "iris_test = iris_test.reset_index(drop=True)\n",
        "iris_test_prediction = pd.concat([iris_test_labels, gnb_df], axis=1)\n",
        "iris_test_prediction.head(5)"
      ],
      "execution_count": 0,
      "outputs": [
        {
          "output_type": "execute_result",
          "data": {
            "text/html": [
              "<div>\n",
              "<style scoped>\n",
              "    .dataframe tbody tr th:only-of-type {\n",
              "        vertical-align: middle;\n",
              "    }\n",
              "\n",
              "    .dataframe tbody tr th {\n",
              "        vertical-align: top;\n",
              "    }\n",
              "\n",
              "    .dataframe thead th {\n",
              "        text-align: right;\n",
              "    }\n",
              "</style>\n",
              "<table border=\"1\" class=\"dataframe\">\n",
              "  <thead>\n",
              "    <tr style=\"text-align: right;\">\n",
              "      <th></th>\n",
              "      <th>species</th>\n",
              "      <th>gnb_prediction</th>\n",
              "      <th>gnb_probability</th>\n",
              "    </tr>\n",
              "  </thead>\n",
              "  <tbody>\n",
              "    <tr>\n",
              "      <th>0</th>\n",
              "      <td>0</td>\n",
              "      <td>0</td>\n",
              "      <td>4.332609e-15</td>\n",
              "    </tr>\n",
              "    <tr>\n",
              "      <th>1</th>\n",
              "      <td>1</td>\n",
              "      <td>2</td>\n",
              "      <td>2.781348e-01</td>\n",
              "    </tr>\n",
              "    <tr>\n",
              "      <th>2</th>\n",
              "      <td>1</td>\n",
              "      <td>1</td>\n",
              "      <td>9.997362e-01</td>\n",
              "    </tr>\n",
              "    <tr>\n",
              "      <th>3</th>\n",
              "      <td>2</td>\n",
              "      <td>2</td>\n",
              "      <td>4.338009e-07</td>\n",
              "    </tr>\n",
              "    <tr>\n",
              "      <th>4</th>\n",
              "      <td>1</td>\n",
              "      <td>1</td>\n",
              "      <td>8.673996e-01</td>\n",
              "    </tr>\n",
              "  </tbody>\n",
              "</table>\n",
              "</div>"
            ],
            "text/plain": [
              "   species  gnb_prediction  gnb_probability\n",
              "0        0               0     4.332609e-15\n",
              "1        1               2     2.781348e-01\n",
              "2        1               1     9.997362e-01\n",
              "3        2               2     4.338009e-07\n",
              "4        1               1     8.673996e-01"
            ]
          },
          "metadata": {
            "tags": []
          },
          "execution_count": 30
        }
      ]
    },
    {
      "cell_type": "markdown",
      "metadata": {
        "id": "nJzPy4BT4oPU",
        "colab_type": "text"
      },
      "source": [
        "#### Decision Trees\n",
        "Documentation at https://scikit-learn.org/stable/modules/generated/sklearn.tree.DecisionTreeClassifier.html"
      ]
    },
    {
      "cell_type": "code",
      "metadata": {
        "id": "liPbQE3-4sXY",
        "colab_type": "code",
        "outputId": "ddc531b5-70fd-4eaf-80ab-f0d17813c109",
        "colab": {
          "base_uri": "https://localhost:8080/",
          "height": 204
        }
      },
      "source": [
        "#Create the model object and train\n",
        "dt = tree.DecisionTreeClassifier()\n",
        "dt.fit(iris_train_features, iris_train_labels)\n",
        "\n",
        "#Predictions on the Test data\n",
        "predictions_dt = dt.predict(iris_test_features)\n",
        "\n",
        "#Getting the probabilities for these predictions\n",
        "predictions_probability_dt = dt.predict_proba(iris_test_features)[:, 1]\n",
        "\n",
        "#Putting the above two together to create a readable df\n",
        "dt_df = pd.DataFrame(predictions_dt.reshape(len(predictions_dt),1))\n",
        "dt_df.rename(columns={0:'dt_prediction'}, inplace=True)\n",
        "dt_df['dt_probability'] = predictions_probability_dt\n",
        "dt_df.head(5)"
      ],
      "execution_count": 0,
      "outputs": [
        {
          "output_type": "execute_result",
          "data": {
            "text/html": [
              "<div>\n",
              "<style scoped>\n",
              "    .dataframe tbody tr th:only-of-type {\n",
              "        vertical-align: middle;\n",
              "    }\n",
              "\n",
              "    .dataframe tbody tr th {\n",
              "        vertical-align: top;\n",
              "    }\n",
              "\n",
              "    .dataframe thead th {\n",
              "        text-align: right;\n",
              "    }\n",
              "</style>\n",
              "<table border=\"1\" class=\"dataframe\">\n",
              "  <thead>\n",
              "    <tr style=\"text-align: right;\">\n",
              "      <th></th>\n",
              "      <th>dt_prediction</th>\n",
              "      <th>dt_probability</th>\n",
              "    </tr>\n",
              "  </thead>\n",
              "  <tbody>\n",
              "    <tr>\n",
              "      <th>0</th>\n",
              "      <td>0</td>\n",
              "      <td>0.0</td>\n",
              "    </tr>\n",
              "    <tr>\n",
              "      <th>1</th>\n",
              "      <td>1</td>\n",
              "      <td>1.0</td>\n",
              "    </tr>\n",
              "    <tr>\n",
              "      <th>2</th>\n",
              "      <td>1</td>\n",
              "      <td>1.0</td>\n",
              "    </tr>\n",
              "    <tr>\n",
              "      <th>3</th>\n",
              "      <td>2</td>\n",
              "      <td>0.0</td>\n",
              "    </tr>\n",
              "    <tr>\n",
              "      <th>4</th>\n",
              "      <td>2</td>\n",
              "      <td>0.0</td>\n",
              "    </tr>\n",
              "  </tbody>\n",
              "</table>\n",
              "</div>"
            ],
            "text/plain": [
              "   dt_prediction  dt_probability\n",
              "0              0             0.0\n",
              "1              1             1.0\n",
              "2              1             1.0\n",
              "3              2             0.0\n",
              "4              2             0.0"
            ]
          },
          "metadata": {
            "tags": []
          },
          "execution_count": 31
        }
      ]
    },
    {
      "cell_type": "code",
      "metadata": {
        "id": "4FW1KIW25C0u",
        "colab_type": "code",
        "outputId": "0c759e13-5ba5-4c83-bd1a-1d214d94d2af",
        "colab": {
          "base_uri": "https://localhost:8080/",
          "height": 204
        }
      },
      "source": [
        "#Concatonating the predictions of decision tree to the iris_test dataset\n",
        "iris_test = iris_test.reset_index(drop=True)\n",
        "iris_test_prediction = pd.concat([iris_test_prediction, dt_df], axis=1)\n",
        "iris_test_prediction.head(5)"
      ],
      "execution_count": 0,
      "outputs": [
        {
          "output_type": "execute_result",
          "data": {
            "text/html": [
              "<div>\n",
              "<style scoped>\n",
              "    .dataframe tbody tr th:only-of-type {\n",
              "        vertical-align: middle;\n",
              "    }\n",
              "\n",
              "    .dataframe tbody tr th {\n",
              "        vertical-align: top;\n",
              "    }\n",
              "\n",
              "    .dataframe thead th {\n",
              "        text-align: right;\n",
              "    }\n",
              "</style>\n",
              "<table border=\"1\" class=\"dataframe\">\n",
              "  <thead>\n",
              "    <tr style=\"text-align: right;\">\n",
              "      <th></th>\n",
              "      <th>species</th>\n",
              "      <th>gnb_prediction</th>\n",
              "      <th>gnb_probability</th>\n",
              "      <th>dt_prediction</th>\n",
              "      <th>dt_probability</th>\n",
              "    </tr>\n",
              "  </thead>\n",
              "  <tbody>\n",
              "    <tr>\n",
              "      <th>0</th>\n",
              "      <td>0</td>\n",
              "      <td>0</td>\n",
              "      <td>4.332609e-15</td>\n",
              "      <td>0</td>\n",
              "      <td>0.0</td>\n",
              "    </tr>\n",
              "    <tr>\n",
              "      <th>1</th>\n",
              "      <td>1</td>\n",
              "      <td>2</td>\n",
              "      <td>2.781348e-01</td>\n",
              "      <td>1</td>\n",
              "      <td>1.0</td>\n",
              "    </tr>\n",
              "    <tr>\n",
              "      <th>2</th>\n",
              "      <td>1</td>\n",
              "      <td>1</td>\n",
              "      <td>9.997362e-01</td>\n",
              "      <td>1</td>\n",
              "      <td>1.0</td>\n",
              "    </tr>\n",
              "    <tr>\n",
              "      <th>3</th>\n",
              "      <td>2</td>\n",
              "      <td>2</td>\n",
              "      <td>4.338009e-07</td>\n",
              "      <td>2</td>\n",
              "      <td>0.0</td>\n",
              "    </tr>\n",
              "    <tr>\n",
              "      <th>4</th>\n",
              "      <td>1</td>\n",
              "      <td>1</td>\n",
              "      <td>8.673996e-01</td>\n",
              "      <td>2</td>\n",
              "      <td>0.0</td>\n",
              "    </tr>\n",
              "  </tbody>\n",
              "</table>\n",
              "</div>"
            ],
            "text/plain": [
              "   species  gnb_prediction  gnb_probability  dt_prediction  dt_probability\n",
              "0        0               0     4.332609e-15              0             0.0\n",
              "1        1               2     2.781348e-01              1             1.0\n",
              "2        1               1     9.997362e-01              1             1.0\n",
              "3        2               2     4.338009e-07              2             0.0\n",
              "4        1               1     8.673996e-01              2             0.0"
            ]
          },
          "metadata": {
            "tags": []
          },
          "execution_count": 33
        }
      ]
    },
    {
      "cell_type": "markdown",
      "metadata": {
        "id": "a7LtZ5bj5y-D",
        "colab_type": "text"
      },
      "source": [
        "#### Logistic Regression\n",
        "Documentation at https://scikit-learn.org/stable/modules/generated/sklearn.linear_model.LogisticRegression.html"
      ]
    },
    {
      "cell_type": "code",
      "metadata": {
        "id": "6DBb3FN06DVL",
        "colab_type": "code",
        "outputId": "22b29b3f-b717-400d-ce77-98bcbcea29ff",
        "colab": {
          "base_uri": "https://localhost:8080/",
          "height": 394
        }
      },
      "source": [
        "#Create the model object and train\n",
        "logr = LogisticRegression()\n",
        "logr.fit(iris_train_features, iris_train_labels)\n",
        "\n",
        "#Predictions on the Test data\n",
        "predictions_logr = logr.predict(iris_test_features)\n",
        "\n",
        "#Getting the probabilities for these predictions\n",
        "predictions_probability_logr = logr.predict_proba(iris_test_features)[:, 1]\n",
        "\n",
        "#Putting the above predictions and probabilities together to create a readable df\n",
        "logr_df = pd.DataFrame(predictions_logr.reshape(len(predictions_logr),1))\n",
        "logr_df.rename(columns={0:'logr_prediction'}, inplace=True)\n",
        "logr_df['logr_probability'] = predictions_probability_logr\n",
        "logr_df.head(5)"
      ],
      "execution_count": 0,
      "outputs": [
        {
          "output_type": "stream",
          "text": [
            "/usr/local/lib/python3.6/dist-packages/sklearn/utils/validation.py:760: DataConversionWarning: A column-vector y was passed when a 1d array was expected. Please change the shape of y to (n_samples, ), for example using ravel().\n",
            "  y = column_or_1d(y, warn=True)\n",
            "/usr/local/lib/python3.6/dist-packages/sklearn/linear_model/_logistic.py:940: ConvergenceWarning: lbfgs failed to converge (status=1):\n",
            "STOP: TOTAL NO. of ITERATIONS REACHED LIMIT.\n",
            "\n",
            "Increase the number of iterations (max_iter) or scale the data as shown in:\n",
            "    https://scikit-learn.org/stable/modules/preprocessing.html\n",
            "Please also refer to the documentation for alternative solver options:\n",
            "    https://scikit-learn.org/stable/modules/linear_model.html#logistic-regression\n",
            "  extra_warning_msg=_LOGISTIC_SOLVER_CONVERGENCE_MSG)\n"
          ],
          "name": "stderr"
        },
        {
          "output_type": "execute_result",
          "data": {
            "text/html": [
              "<div>\n",
              "<style scoped>\n",
              "    .dataframe tbody tr th:only-of-type {\n",
              "        vertical-align: middle;\n",
              "    }\n",
              "\n",
              "    .dataframe tbody tr th {\n",
              "        vertical-align: top;\n",
              "    }\n",
              "\n",
              "    .dataframe thead th {\n",
              "        text-align: right;\n",
              "    }\n",
              "</style>\n",
              "<table border=\"1\" class=\"dataframe\">\n",
              "  <thead>\n",
              "    <tr style=\"text-align: right;\">\n",
              "      <th></th>\n",
              "      <th>logr_prediction</th>\n",
              "      <th>logr_probability</th>\n",
              "    </tr>\n",
              "  </thead>\n",
              "  <tbody>\n",
              "    <tr>\n",
              "      <th>0</th>\n",
              "      <td>0</td>\n",
              "      <td>0.042637</td>\n",
              "    </tr>\n",
              "    <tr>\n",
              "      <th>1</th>\n",
              "      <td>1</td>\n",
              "      <td>0.686638</td>\n",
              "    </tr>\n",
              "    <tr>\n",
              "      <th>2</th>\n",
              "      <td>1</td>\n",
              "      <td>0.885200</td>\n",
              "    </tr>\n",
              "    <tr>\n",
              "      <th>3</th>\n",
              "      <td>2</td>\n",
              "      <td>0.064810</td>\n",
              "    </tr>\n",
              "    <tr>\n",
              "      <th>4</th>\n",
              "      <td>1</td>\n",
              "      <td>0.553860</td>\n",
              "    </tr>\n",
              "  </tbody>\n",
              "</table>\n",
              "</div>"
            ],
            "text/plain": [
              "   logr_prediction  logr_probability\n",
              "0                0          0.042637\n",
              "1                1          0.686638\n",
              "2                1          0.885200\n",
              "3                2          0.064810\n",
              "4                1          0.553860"
            ]
          },
          "metadata": {
            "tags": []
          },
          "execution_count": 34
        }
      ]
    },
    {
      "cell_type": "code",
      "metadata": {
        "id": "aT8ItB0m6YWK",
        "colab_type": "code",
        "outputId": "8dab6603-ed68-4e89-a6a4-099ef12d03be",
        "colab": {
          "base_uri": "https://localhost:8080/",
          "height": 204
        }
      },
      "source": [
        "#Concatonating the predictions of decision tree to the iris_test dataset\n",
        "iris_test_prediction = pd.concat([iris_test_prediction, logr_df], axis=1)\n",
        "iris_test_prediction.head(5)"
      ],
      "execution_count": 0,
      "outputs": [
        {
          "output_type": "execute_result",
          "data": {
            "text/html": [
              "<div>\n",
              "<style scoped>\n",
              "    .dataframe tbody tr th:only-of-type {\n",
              "        vertical-align: middle;\n",
              "    }\n",
              "\n",
              "    .dataframe tbody tr th {\n",
              "        vertical-align: top;\n",
              "    }\n",
              "\n",
              "    .dataframe thead th {\n",
              "        text-align: right;\n",
              "    }\n",
              "</style>\n",
              "<table border=\"1\" class=\"dataframe\">\n",
              "  <thead>\n",
              "    <tr style=\"text-align: right;\">\n",
              "      <th></th>\n",
              "      <th>species</th>\n",
              "      <th>gnb_prediction</th>\n",
              "      <th>gnb_probability</th>\n",
              "      <th>dt_prediction</th>\n",
              "      <th>dt_probability</th>\n",
              "      <th>logr_prediction</th>\n",
              "      <th>logr_probability</th>\n",
              "    </tr>\n",
              "  </thead>\n",
              "  <tbody>\n",
              "    <tr>\n",
              "      <th>0</th>\n",
              "      <td>0</td>\n",
              "      <td>0</td>\n",
              "      <td>4.332609e-15</td>\n",
              "      <td>0</td>\n",
              "      <td>0.0</td>\n",
              "      <td>0</td>\n",
              "      <td>0.042637</td>\n",
              "    </tr>\n",
              "    <tr>\n",
              "      <th>1</th>\n",
              "      <td>1</td>\n",
              "      <td>2</td>\n",
              "      <td>2.781348e-01</td>\n",
              "      <td>1</td>\n",
              "      <td>1.0</td>\n",
              "      <td>1</td>\n",
              "      <td>0.686638</td>\n",
              "    </tr>\n",
              "    <tr>\n",
              "      <th>2</th>\n",
              "      <td>1</td>\n",
              "      <td>1</td>\n",
              "      <td>9.997362e-01</td>\n",
              "      <td>1</td>\n",
              "      <td>1.0</td>\n",
              "      <td>1</td>\n",
              "      <td>0.885200</td>\n",
              "    </tr>\n",
              "    <tr>\n",
              "      <th>3</th>\n",
              "      <td>2</td>\n",
              "      <td>2</td>\n",
              "      <td>4.338009e-07</td>\n",
              "      <td>2</td>\n",
              "      <td>0.0</td>\n",
              "      <td>2</td>\n",
              "      <td>0.064810</td>\n",
              "    </tr>\n",
              "    <tr>\n",
              "      <th>4</th>\n",
              "      <td>1</td>\n",
              "      <td>1</td>\n",
              "      <td>8.673996e-01</td>\n",
              "      <td>2</td>\n",
              "      <td>0.0</td>\n",
              "      <td>1</td>\n",
              "      <td>0.553860</td>\n",
              "    </tr>\n",
              "  </tbody>\n",
              "</table>\n",
              "</div>"
            ],
            "text/plain": [
              "   species  gnb_prediction  ...  logr_prediction  logr_probability\n",
              "0        0               0  ...                0          0.042637\n",
              "1        1               2  ...                1          0.686638\n",
              "2        1               1  ...                1          0.885200\n",
              "3        2               2  ...                2          0.064810\n",
              "4        1               1  ...                1          0.553860\n",
              "\n",
              "[5 rows x 7 columns]"
            ]
          },
          "metadata": {
            "tags": []
          },
          "execution_count": 36
        }
      ]
    },
    {
      "cell_type": "markdown",
      "metadata": {
        "id": "c_8HH1476i5W",
        "colab_type": "text"
      },
      "source": [
        "Now we have predictions from 3 classification models on the Iris dataset for comparison in the next section."
      ]
    },
    {
      "cell_type": "markdown",
      "metadata": {
        "id": "BSq2s1WP3wpF",
        "colab_type": "text"
      },
      "source": [
        "### Regression with Boston Data"
      ]
    },
    {
      "cell_type": "markdown",
      "metadata": {
        "id": "8Us7ocgB6od4",
        "colab_type": "text"
      },
      "source": [
        "#### Linear Regression\n",
        "Documentation at https://scikit-learn.org/stable/modules/generated/sklearn.linear_model.LinearRegression.html"
      ]
    },
    {
      "cell_type": "code",
      "metadata": {
        "id": "kpBb4TQK7O14",
        "colab_type": "code",
        "outputId": "249810d1-6b5b-4fb3-de29-4c513a4ce19e",
        "colab": {
          "base_uri": "https://localhost:8080/",
          "height": 204
        }
      },
      "source": [
        "lr = LinearRegression().fit(boston_train_features, boston_train_labels)\n",
        "\n",
        "#Predictions on the Test data\n",
        "predictions_lr = lr.predict(boston_test_features)\n",
        "\n",
        "#Putting the above predictions and probabilities together to create a readable df\n",
        "lr_df = pd.DataFrame(predictions_lr.reshape(len(predictions_lr),1))\n",
        "lr_df.rename(columns={0:'lr_prediction'}, inplace=True)\n",
        "lr_df.head(5)"
      ],
      "execution_count": 0,
      "outputs": [
        {
          "output_type": "execute_result",
          "data": {
            "text/html": [
              "<div>\n",
              "<style scoped>\n",
              "    .dataframe tbody tr th:only-of-type {\n",
              "        vertical-align: middle;\n",
              "    }\n",
              "\n",
              "    .dataframe tbody tr th {\n",
              "        vertical-align: top;\n",
              "    }\n",
              "\n",
              "    .dataframe thead th {\n",
              "        text-align: right;\n",
              "    }\n",
              "</style>\n",
              "<table border=\"1\" class=\"dataframe\">\n",
              "  <thead>\n",
              "    <tr style=\"text-align: right;\">\n",
              "      <th></th>\n",
              "      <th>lr_prediction</th>\n",
              "    </tr>\n",
              "  </thead>\n",
              "  <tbody>\n",
              "    <tr>\n",
              "      <th>0</th>\n",
              "      <td>23.748427</td>\n",
              "    </tr>\n",
              "    <tr>\n",
              "      <th>1</th>\n",
              "      <td>15.316862</td>\n",
              "    </tr>\n",
              "    <tr>\n",
              "      <th>2</th>\n",
              "      <td>9.233145</td>\n",
              "    </tr>\n",
              "    <tr>\n",
              "      <th>3</th>\n",
              "      <td>19.217745</td>\n",
              "    </tr>\n",
              "    <tr>\n",
              "      <th>4</th>\n",
              "      <td>18.257080</td>\n",
              "    </tr>\n",
              "  </tbody>\n",
              "</table>\n",
              "</div>"
            ],
            "text/plain": [
              "   lr_prediction\n",
              "0      23.748427\n",
              "1      15.316862\n",
              "2       9.233145\n",
              "3      19.217745\n",
              "4      18.257080"
            ]
          },
          "metadata": {
            "tags": []
          },
          "execution_count": 37
        }
      ]
    },
    {
      "cell_type": "code",
      "metadata": {
        "id": "AzhkiGE57pCH",
        "colab_type": "code",
        "outputId": "a1d2b727-243c-488c-f3e1-86e3915e3ded",
        "colab": {
          "base_uri": "https://localhost:8080/",
          "height": 204
        }
      },
      "source": [
        "#Concatonating the predictions of decision tree to the iris_test dataset\n",
        "boston_test_prediction = pd.concat([boston_test_labels, lr_df], axis=1)\n",
        "boston_test_prediction.head(5)"
      ],
      "execution_count": 0,
      "outputs": [
        {
          "output_type": "execute_result",
          "data": {
            "text/html": [
              "<div>\n",
              "<style scoped>\n",
              "    .dataframe tbody tr th:only-of-type {\n",
              "        vertical-align: middle;\n",
              "    }\n",
              "\n",
              "    .dataframe tbody tr th {\n",
              "        vertical-align: top;\n",
              "    }\n",
              "\n",
              "    .dataframe thead th {\n",
              "        text-align: right;\n",
              "    }\n",
              "</style>\n",
              "<table border=\"1\" class=\"dataframe\">\n",
              "  <thead>\n",
              "    <tr style=\"text-align: right;\">\n",
              "      <th></th>\n",
              "      <th>MEDV</th>\n",
              "      <th>lr_prediction</th>\n",
              "    </tr>\n",
              "  </thead>\n",
              "  <tbody>\n",
              "    <tr>\n",
              "      <th>0</th>\n",
              "      <td>19.4</td>\n",
              "      <td>23.748427</td>\n",
              "    </tr>\n",
              "    <tr>\n",
              "      <th>1</th>\n",
              "      <td>19.7</td>\n",
              "      <td>15.316862</td>\n",
              "    </tr>\n",
              "    <tr>\n",
              "      <th>2</th>\n",
              "      <td>50.0</td>\n",
              "      <td>9.233145</td>\n",
              "    </tr>\n",
              "    <tr>\n",
              "      <th>3</th>\n",
              "      <td>24.5</td>\n",
              "      <td>19.217745</td>\n",
              "    </tr>\n",
              "    <tr>\n",
              "      <th>4</th>\n",
              "      <td>18.3</td>\n",
              "      <td>18.257080</td>\n",
              "    </tr>\n",
              "  </tbody>\n",
              "</table>\n",
              "</div>"
            ],
            "text/plain": [
              "   MEDV  lr_prediction\n",
              "0  19.4      23.748427\n",
              "1  19.7      15.316862\n",
              "2  50.0       9.233145\n",
              "3  24.5      19.217745\n",
              "4  18.3      18.257080"
            ]
          },
          "metadata": {
            "tags": []
          },
          "execution_count": 39
        }
      ]
    },
    {
      "cell_type": "markdown",
      "metadata": {
        "colab_type": "text",
        "id": "1WsHSQiMYqtF"
      },
      "source": [
        "#### Random Forest Regression\n",
        "Documentation at https://scikit-learn.org/stable/modules/generated/sklearn.ensemble.RandomForestRegressor.html"
      ]
    },
    {
      "cell_type": "code",
      "metadata": {
        "id": "VY4EISRTNcpZ",
        "colab_type": "code",
        "outputId": "7d600429-42c6-4915-950b-f8ea459f4c34",
        "colab": {
          "base_uri": "https://localhost:8080/",
          "height": 258
        }
      },
      "source": [
        "rfr = RandomForestRegressor().fit(boston_train_features, boston_train_labels)\n",
        "\n",
        "#Predictions on the Test data\n",
        "predictions_rfr = rfr.predict(boston_test_features)\n",
        "\n",
        "#Putting the above predictions and probabilities together to create a readable df\n",
        "rfr_df = pd.DataFrame(predictions_rfr.reshape(len(predictions_rfr),1))\n",
        "rfr_df.rename(columns={0:'rfr_prediction'}, inplace=True)\n",
        "rfr_df.head(5)"
      ],
      "execution_count": 0,
      "outputs": [
        {
          "output_type": "stream",
          "text": [
            "/usr/local/lib/python3.6/dist-packages/ipykernel_launcher.py:1: DataConversionWarning: A column-vector y was passed when a 1d array was expected. Please change the shape of y to (n_samples,), for example using ravel().\n",
            "  \"\"\"Entry point for launching an IPython kernel.\n"
          ],
          "name": "stderr"
        },
        {
          "output_type": "execute_result",
          "data": {
            "text/html": [
              "<div>\n",
              "<style scoped>\n",
              "    .dataframe tbody tr th:only-of-type {\n",
              "        vertical-align: middle;\n",
              "    }\n",
              "\n",
              "    .dataframe tbody tr th {\n",
              "        vertical-align: top;\n",
              "    }\n",
              "\n",
              "    .dataframe thead th {\n",
              "        text-align: right;\n",
              "    }\n",
              "</style>\n",
              "<table border=\"1\" class=\"dataframe\">\n",
              "  <thead>\n",
              "    <tr style=\"text-align: right;\">\n",
              "      <th></th>\n",
              "      <th>rfr_prediction</th>\n",
              "    </tr>\n",
              "  </thead>\n",
              "  <tbody>\n",
              "    <tr>\n",
              "      <th>0</th>\n",
              "      <td>20.917</td>\n",
              "    </tr>\n",
              "    <tr>\n",
              "      <th>1</th>\n",
              "      <td>17.347</td>\n",
              "    </tr>\n",
              "    <tr>\n",
              "      <th>2</th>\n",
              "      <td>15.647</td>\n",
              "    </tr>\n",
              "    <tr>\n",
              "      <th>3</th>\n",
              "      <td>19.769</td>\n",
              "    </tr>\n",
              "    <tr>\n",
              "      <th>4</th>\n",
              "      <td>20.888</td>\n",
              "    </tr>\n",
              "  </tbody>\n",
              "</table>\n",
              "</div>"
            ],
            "text/plain": [
              "   rfr_prediction\n",
              "0          20.917\n",
              "1          17.347\n",
              "2          15.647\n",
              "3          19.769\n",
              "4          20.888"
            ]
          },
          "metadata": {
            "tags": []
          },
          "execution_count": 40
        }
      ]
    },
    {
      "cell_type": "code",
      "metadata": {
        "id": "LzyCzh1fTSAQ",
        "colab_type": "code",
        "outputId": "55f86f45-c7a2-48d8-fe39-cfec521d3edf",
        "colab": {
          "base_uri": "https://localhost:8080/",
          "height": 204
        }
      },
      "source": [
        "#Concatonating the predictions of decision tree to the iris_test dataset\n",
        "boston_test_prediction = pd.concat([boston_test_prediction, rfr_df], axis=1)\n",
        "boston_test_prediction.head(5)"
      ],
      "execution_count": 0,
      "outputs": [
        {
          "output_type": "execute_result",
          "data": {
            "text/html": [
              "<div>\n",
              "<style scoped>\n",
              "    .dataframe tbody tr th:only-of-type {\n",
              "        vertical-align: middle;\n",
              "    }\n",
              "\n",
              "    .dataframe tbody tr th {\n",
              "        vertical-align: top;\n",
              "    }\n",
              "\n",
              "    .dataframe thead th {\n",
              "        text-align: right;\n",
              "    }\n",
              "</style>\n",
              "<table border=\"1\" class=\"dataframe\">\n",
              "  <thead>\n",
              "    <tr style=\"text-align: right;\">\n",
              "      <th></th>\n",
              "      <th>MEDV</th>\n",
              "      <th>lr_prediction</th>\n",
              "      <th>rfr_prediction</th>\n",
              "    </tr>\n",
              "  </thead>\n",
              "  <tbody>\n",
              "    <tr>\n",
              "      <th>0</th>\n",
              "      <td>19.4</td>\n",
              "      <td>23.748427</td>\n",
              "      <td>20.917</td>\n",
              "    </tr>\n",
              "    <tr>\n",
              "      <th>1</th>\n",
              "      <td>19.7</td>\n",
              "      <td>15.316862</td>\n",
              "      <td>17.347</td>\n",
              "    </tr>\n",
              "    <tr>\n",
              "      <th>2</th>\n",
              "      <td>50.0</td>\n",
              "      <td>9.233145</td>\n",
              "      <td>15.647</td>\n",
              "    </tr>\n",
              "    <tr>\n",
              "      <th>3</th>\n",
              "      <td>24.5</td>\n",
              "      <td>19.217745</td>\n",
              "      <td>19.769</td>\n",
              "    </tr>\n",
              "    <tr>\n",
              "      <th>4</th>\n",
              "      <td>18.3</td>\n",
              "      <td>18.257080</td>\n",
              "      <td>20.888</td>\n",
              "    </tr>\n",
              "  </tbody>\n",
              "</table>\n",
              "</div>"
            ],
            "text/plain": [
              "   MEDV  lr_prediction  rfr_prediction\n",
              "0  19.4      23.748427          20.917\n",
              "1  19.7      15.316862          17.347\n",
              "2  50.0       9.233145          15.647\n",
              "3  24.5      19.217745          19.769\n",
              "4  18.3      18.257080          20.888"
            ]
          },
          "metadata": {
            "tags": []
          },
          "execution_count": 41
        }
      ]
    },
    {
      "cell_type": "markdown",
      "metadata": {
        "id": "Z1G9HjPB6xVo",
        "colab_type": "text"
      },
      "source": [
        "#### Support Vector Machines\n",
        "Documentation at https://scikit-learn.org/stable/modules/generated/sklearn.svm.SVR.html"
      ]
    },
    {
      "cell_type": "code",
      "metadata": {
        "id": "xPcG1jw_N5Ku",
        "colab_type": "code",
        "outputId": "47223596-c264-4fcf-a6f0-188fdfd494ab",
        "colab": {
          "base_uri": "https://localhost:8080/",
          "height": 258
        }
      },
      "source": [
        "svm = svm.SVR().fit(boston_train_features, boston_train_labels)\n",
        "\n",
        "#Predictions on the Test data\n",
        "predictions_svm = svm.predict(boston_test_features)\n",
        "\n",
        "#Putting the above predictions and probabilities together to create a readable df\n",
        "svm_df = pd.DataFrame(predictions_svm.reshape(len(predictions_svm),1))\n",
        "svm_df.rename(columns={0:'svm_prediction'}, inplace=True)\n",
        "svm_df.head(5)"
      ],
      "execution_count": 0,
      "outputs": [
        {
          "output_type": "stream",
          "text": [
            "/usr/local/lib/python3.6/dist-packages/sklearn/utils/validation.py:760: DataConversionWarning: A column-vector y was passed when a 1d array was expected. Please change the shape of y to (n_samples, ), for example using ravel().\n",
            "  y = column_or_1d(y, warn=True)\n"
          ],
          "name": "stderr"
        },
        {
          "output_type": "execute_result",
          "data": {
            "text/html": [
              "<div>\n",
              "<style scoped>\n",
              "    .dataframe tbody tr th:only-of-type {\n",
              "        vertical-align: middle;\n",
              "    }\n",
              "\n",
              "    .dataframe tbody tr th {\n",
              "        vertical-align: top;\n",
              "    }\n",
              "\n",
              "    .dataframe thead th {\n",
              "        text-align: right;\n",
              "    }\n",
              "</style>\n",
              "<table border=\"1\" class=\"dataframe\">\n",
              "  <thead>\n",
              "    <tr style=\"text-align: right;\">\n",
              "      <th></th>\n",
              "      <th>svm_prediction</th>\n",
              "    </tr>\n",
              "  </thead>\n",
              "  <tbody>\n",
              "    <tr>\n",
              "      <th>0</th>\n",
              "      <td>28.688479</td>\n",
              "    </tr>\n",
              "    <tr>\n",
              "      <th>1</th>\n",
              "      <td>20.012040</td>\n",
              "    </tr>\n",
              "    <tr>\n",
              "      <th>2</th>\n",
              "      <td>17.032285</td>\n",
              "    </tr>\n",
              "    <tr>\n",
              "      <th>3</th>\n",
              "      <td>20.106698</td>\n",
              "    </tr>\n",
              "    <tr>\n",
              "      <th>4</th>\n",
              "      <td>20.082906</td>\n",
              "    </tr>\n",
              "  </tbody>\n",
              "</table>\n",
              "</div>"
            ],
            "text/plain": [
              "   svm_prediction\n",
              "0       28.688479\n",
              "1       20.012040\n",
              "2       17.032285\n",
              "3       20.106698\n",
              "4       20.082906"
            ]
          },
          "metadata": {
            "tags": []
          },
          "execution_count": 42
        }
      ]
    },
    {
      "cell_type": "code",
      "metadata": {
        "id": "SnoLm3HCR640",
        "colab_type": "code",
        "outputId": "cbef837d-e0d8-4d85-eb3a-2ea5cbb9850f",
        "colab": {
          "base_uri": "https://localhost:8080/",
          "height": 204
        }
      },
      "source": [
        "#Concatonating the predictions of decision tree to the iris_test dataset\n",
        "boston_test_prediction = pd.concat([boston_test_prediction, svm_df], axis=1)\n",
        "boston_test_prediction.head(5)"
      ],
      "execution_count": 0,
      "outputs": [
        {
          "output_type": "execute_result",
          "data": {
            "text/html": [
              "<div>\n",
              "<style scoped>\n",
              "    .dataframe tbody tr th:only-of-type {\n",
              "        vertical-align: middle;\n",
              "    }\n",
              "\n",
              "    .dataframe tbody tr th {\n",
              "        vertical-align: top;\n",
              "    }\n",
              "\n",
              "    .dataframe thead th {\n",
              "        text-align: right;\n",
              "    }\n",
              "</style>\n",
              "<table border=\"1\" class=\"dataframe\">\n",
              "  <thead>\n",
              "    <tr style=\"text-align: right;\">\n",
              "      <th></th>\n",
              "      <th>MEDV</th>\n",
              "      <th>lr_prediction</th>\n",
              "      <th>rfr_prediction</th>\n",
              "      <th>svm_prediction</th>\n",
              "    </tr>\n",
              "  </thead>\n",
              "  <tbody>\n",
              "    <tr>\n",
              "      <th>0</th>\n",
              "      <td>19.4</td>\n",
              "      <td>23.748427</td>\n",
              "      <td>20.917</td>\n",
              "      <td>28.688479</td>\n",
              "    </tr>\n",
              "    <tr>\n",
              "      <th>1</th>\n",
              "      <td>19.7</td>\n",
              "      <td>15.316862</td>\n",
              "      <td>17.347</td>\n",
              "      <td>20.012040</td>\n",
              "    </tr>\n",
              "    <tr>\n",
              "      <th>2</th>\n",
              "      <td>50.0</td>\n",
              "      <td>9.233145</td>\n",
              "      <td>15.647</td>\n",
              "      <td>17.032285</td>\n",
              "    </tr>\n",
              "    <tr>\n",
              "      <th>3</th>\n",
              "      <td>24.5</td>\n",
              "      <td>19.217745</td>\n",
              "      <td>19.769</td>\n",
              "      <td>20.106698</td>\n",
              "    </tr>\n",
              "    <tr>\n",
              "      <th>4</th>\n",
              "      <td>18.3</td>\n",
              "      <td>18.257080</td>\n",
              "      <td>20.888</td>\n",
              "      <td>20.082906</td>\n",
              "    </tr>\n",
              "  </tbody>\n",
              "</table>\n",
              "</div>"
            ],
            "text/plain": [
              "   MEDV  lr_prediction  rfr_prediction  svm_prediction\n",
              "0  19.4      23.748427          20.917       28.688479\n",
              "1  19.7      15.316862          17.347       20.012040\n",
              "2  50.0       9.233145          15.647       17.032285\n",
              "3  24.5      19.217745          19.769       20.106698\n",
              "4  18.3      18.257080          20.888       20.082906"
            ]
          },
          "metadata": {
            "tags": []
          },
          "execution_count": 44
        }
      ]
    },
    {
      "cell_type": "markdown",
      "metadata": {
        "id": "OwV2Cv3ISkkH",
        "colab_type": "text"
      },
      "source": [
        "Now we have 3 regression models to compare."
      ]
    },
    {
      "cell_type": "markdown",
      "metadata": {
        "id": "-Sy4FdPSDqBa",
        "colab_type": "text"
      },
      "source": [
        "## Performance Measures"
      ]
    },
    {
      "cell_type": "markdown",
      "metadata": {
        "id": "dbcaEO1bL0vC",
        "colab_type": "text"
      },
      "source": [
        "Depending on the type of solution we are building (classification/regression), there are different ways to analyze the performance of a model"
      ]
    },
    {
      "cell_type": "markdown",
      "metadata": {
        "id": "oz1NTcucLfR4",
        "colab_type": "text"
      },
      "source": [
        "###Classification"
      ]
    },
    {
      "cell_type": "markdown",
      "metadata": {
        "id": "e4awaJ8fL8tu",
        "colab_type": "text"
      },
      "source": [
        "Since the output of the model is a specific category, a given prediction can only be either right or wrong. For such a solution, we start off by bulding a [confusion matrix](https://www.geeksforgeeks.org/confusion-matrix-machine-learning/), which we will use to generate the performance metrics.\n",
        "\n",
        "Confusion matrix is built in the following manner where TP, FP, FN, TN map to counts of rows in which actual and predicted values are the row/column values\n",
        "\n",
        "![alt text](https://miro.medium.com/max/712/1*Z54JgbS4DUwWSknhDCvNTQ.png)\n",
        "\n",
        "From this confusion matrix, we can build performance metrics for a classification problem as shown below:\n",
        "\n",
        "![alt text](https://2.bp.blogspot.com/-EvSXDotTOwc/XMfeOGZ-CVI/AAAAAAAAEiE/oePFfvhfOQM11dgRn9FkPxlegCXbgOF4QCLcBGAs/s1600/confusionMatrxiUpdated.jpg)\n",
        "\n",
        "***Accuracy***\n",
        "Gives an overall idea on how many cases your model made a right prediction in your dataset. If the accuracy is 0.6, it can be read as 60% of the test instances were predicted correctly.\n",
        "\n",
        "***Precision***\n",
        "With precision, we are evaluating our data by its performance of ‘positive’ predictions.\n",
        "\n",
        "***Recall/Sensitivity***\n",
        "With recall, we are evaluating our data by its performance of the ground truths for positive outcomes. Meaning, we are judging how well predicted positive when the result was Positive.\n",
        "\n",
        "***F1-Score***\n",
        "F1 Score is the weighted average of Precision and Recall. Therefore, this score takes both false positives and false negatives into account. Intuitively it is not as easy to understand as accuracy, but F1 is usually more useful than accuracy, especially if you have an uneven class distribution.\n",
        "![alt text](https://wikimedia.org/api/rest_v1/media/math/render/svg/1bf179c30b00db201ce1895d88fe2915d58e6bfd)\n",
        "\n",
        "***ROC curve/AUC Score***\n",
        "The ROC curve is a way to maximize our accuracy of the model by playing around with the threshold of confidence of the predictions. \n",
        "![alt text](https://miro.medium.com/max/722/1*pk05QGzoWhCgRiiFbz-oKQ.png)\n",
        "\n",
        "Reference - https://becominghuman.ai/understand-classification-performance-metrics-cad56f2da3aa"
      ]
    },
    {
      "cell_type": "markdown",
      "metadata": {
        "id": "mXUwlY4IcetI",
        "colab_type": "text"
      },
      "source": [
        "For our Iris dataset, let us use accuracy as our performance metric and our goal is to maximize this value."
      ]
    },
    {
      "cell_type": "code",
      "metadata": {
        "id": "sjyQ4qRJUf4H",
        "colab_type": "code",
        "outputId": "57c520d7-7a49-4e84-89f2-d67b56a11df6",
        "colab": {
          "base_uri": "https://localhost:8080/",
          "height": 204
        }
      },
      "source": [
        "iris_test_prediction.head(5)"
      ],
      "execution_count": 0,
      "outputs": [
        {
          "output_type": "execute_result",
          "data": {
            "text/html": [
              "<div>\n",
              "<style scoped>\n",
              "    .dataframe tbody tr th:only-of-type {\n",
              "        vertical-align: middle;\n",
              "    }\n",
              "\n",
              "    .dataframe tbody tr th {\n",
              "        vertical-align: top;\n",
              "    }\n",
              "\n",
              "    .dataframe thead th {\n",
              "        text-align: right;\n",
              "    }\n",
              "</style>\n",
              "<table border=\"1\" class=\"dataframe\">\n",
              "  <thead>\n",
              "    <tr style=\"text-align: right;\">\n",
              "      <th></th>\n",
              "      <th>species</th>\n",
              "      <th>gnb_prediction</th>\n",
              "      <th>gnb_probability</th>\n",
              "      <th>dt_prediction</th>\n",
              "      <th>dt_probability</th>\n",
              "      <th>logr_prediction</th>\n",
              "      <th>logr_probability</th>\n",
              "    </tr>\n",
              "  </thead>\n",
              "  <tbody>\n",
              "    <tr>\n",
              "      <th>0</th>\n",
              "      <td>0</td>\n",
              "      <td>0</td>\n",
              "      <td>4.332609e-15</td>\n",
              "      <td>0</td>\n",
              "      <td>0.0</td>\n",
              "      <td>0</td>\n",
              "      <td>0.042637</td>\n",
              "    </tr>\n",
              "    <tr>\n",
              "      <th>1</th>\n",
              "      <td>1</td>\n",
              "      <td>2</td>\n",
              "      <td>2.781348e-01</td>\n",
              "      <td>1</td>\n",
              "      <td>1.0</td>\n",
              "      <td>1</td>\n",
              "      <td>0.686638</td>\n",
              "    </tr>\n",
              "    <tr>\n",
              "      <th>2</th>\n",
              "      <td>1</td>\n",
              "      <td>1</td>\n",
              "      <td>9.997362e-01</td>\n",
              "      <td>1</td>\n",
              "      <td>1.0</td>\n",
              "      <td>1</td>\n",
              "      <td>0.885200</td>\n",
              "    </tr>\n",
              "    <tr>\n",
              "      <th>3</th>\n",
              "      <td>2</td>\n",
              "      <td>2</td>\n",
              "      <td>4.338009e-07</td>\n",
              "      <td>2</td>\n",
              "      <td>0.0</td>\n",
              "      <td>2</td>\n",
              "      <td>0.064810</td>\n",
              "    </tr>\n",
              "    <tr>\n",
              "      <th>4</th>\n",
              "      <td>1</td>\n",
              "      <td>1</td>\n",
              "      <td>8.673996e-01</td>\n",
              "      <td>2</td>\n",
              "      <td>0.0</td>\n",
              "      <td>1</td>\n",
              "      <td>0.553860</td>\n",
              "    </tr>\n",
              "  </tbody>\n",
              "</table>\n",
              "</div>"
            ],
            "text/plain": [
              "   species  gnb_prediction  ...  logr_prediction  logr_probability\n",
              "0        0               0  ...                0          0.042637\n",
              "1        1               2  ...                1          0.686638\n",
              "2        1               1  ...                1          0.885200\n",
              "3        2               2  ...                2          0.064810\n",
              "4        1               1  ...                1          0.553860\n",
              "\n",
              "[5 rows x 7 columns]"
            ]
          },
          "metadata": {
            "tags": []
          },
          "execution_count": 45
        }
      ]
    },
    {
      "cell_type": "code",
      "metadata": {
        "id": "704wOXg7L6JR",
        "colab_type": "code",
        "outputId": "4d84331b-dd3f-4d84-e867-8f89be23d8dc",
        "colab": {
          "base_uri": "https://localhost:8080/",
          "height": 34
        }
      },
      "source": [
        "accuracy_score(iris_test_prediction['species'], iris_test_prediction['gnb_prediction'])"
      ],
      "execution_count": 0,
      "outputs": [
        {
          "output_type": "execute_result",
          "data": {
            "text/plain": [
              "0.9333333333333333"
            ]
          },
          "metadata": {
            "tags": []
          },
          "execution_count": 46
        }
      ]
    },
    {
      "cell_type": "code",
      "metadata": {
        "id": "gFMfSPVHOLi5",
        "colab_type": "code",
        "outputId": "6a403cbf-c57a-4388-b8c0-bd3c819c06cd",
        "colab": {
          "base_uri": "https://localhost:8080/",
          "height": 34
        }
      },
      "source": [
        "accuracy_score(iris_test_prediction['species'], iris_test_prediction['dt_prediction'])"
      ],
      "execution_count": 0,
      "outputs": [
        {
          "output_type": "execute_result",
          "data": {
            "text/plain": [
              "0.9"
            ]
          },
          "metadata": {
            "tags": []
          },
          "execution_count": 47
        }
      ]
    },
    {
      "cell_type": "code",
      "metadata": {
        "id": "h2cvqjdHOL-g",
        "colab_type": "code",
        "outputId": "8a0737c3-42fe-47d3-bb4a-32366504a2e5",
        "colab": {
          "base_uri": "https://localhost:8080/",
          "height": 34
        }
      },
      "source": [
        "accuracy_score(iris_test_prediction['species'], iris_test_prediction['logr_prediction'])"
      ],
      "execution_count": 0,
      "outputs": [
        {
          "output_type": "execute_result",
          "data": {
            "text/plain": [
              "0.9666666666666667"
            ]
          },
          "metadata": {
            "tags": []
          },
          "execution_count": 48
        }
      ]
    },
    {
      "cell_type": "markdown",
      "metadata": {
        "id": "46nZz6w7MNVk",
        "colab_type": "text"
      },
      "source": [
        "### Regression"
      ]
    },
    {
      "cell_type": "markdown",
      "metadata": {
        "id": "x8lFfkY4MbuM",
        "colab_type": "text"
      },
      "source": [
        "Unlike a classification problem, the objective of a regression problem is to predict a numerical value (eg. cost of a house) and it would be difficult to predict a house value spot-on. Since the output of the model is numerical, we analyze how 'far away' the predictions are from the ground truth.\n",
        "\n",
        "***Mean Absolute Error (MAE)***\n",
        "![alt text](https://miro.medium.com/max/1280/1*2wWmoXUV8ic6Xz1LvzxWfw.png)\n",
        "The Mean Absolute Error measures the average of the absolute difference between each ground truth and the predictions. The MAE is an absolute measure of fit - On an average, the predictions are off from the ground truths by a value of MAE.\n",
        "\n",
        "     \n",
        "\n",
        "***Root Mean Squared Error (RMSE)***\n",
        "\n",
        "![alt text](https://miro.medium.com/max/1984/1*k-OzeL6IuG5fUbsX2lKJfw.png)\n",
        "The Root Mean Squared Error measures the square root of the average of the squared difference between the predictions and the ground truth. Notice that the RMSE is larger than the MAE. Since the RMSE is squaring the difference between the predictions and the ground truth, any significant difference is made more substantial when it is being squared. RMSE is more sensitive to outliers.\n",
        "\n",
        "\n",
        "***R-Squared***\n",
        "\n",
        "\n",
        "![alt text](https://miro.medium.com/max/2568/1*pKx5cF_Fx6nco2KNowSuvA.png)\n",
        "If you like to understand how well the independent variables “explain” the variance in your model, the R-Squared formula can be powerful. The weaker the variance between our model and the linear model is, the stronger the R^Squared.\n",
        "\n",
        "***Adjusted R-squared***\n",
        "\n",
        "\n",
        "![alt text](https://miro.medium.com/max/880/1*Ss-l42a56Mt6wxmEUEX1jg.png)\n",
        "One of the pitfalls of the R-squared is that it will always improve as we increase the number of variables. The Adjusted R-Squared fixes this problem as it adds a penalty to the model.\n",
        "\n",
        "\n",
        "Reference - https://becominghuman.ai/understand-regression-performance-metrics-bdb0e7fcc1b3"
      ]
    },
    {
      "cell_type": "markdown",
      "metadata": {
        "id": "5EUJzzj8T8ta",
        "colab_type": "text"
      },
      "source": [
        "Let us use RMSE as our metric to validate the regression models. Our goal is to minimize the RMSE value."
      ]
    },
    {
      "cell_type": "code",
      "metadata": {
        "id": "DRPohpw8UB6O",
        "colab_type": "code",
        "outputId": "d1c17906-427b-445e-b8c3-40f3ec4dc272",
        "colab": {
          "base_uri": "https://localhost:8080/",
          "height": 204
        }
      },
      "source": [
        "boston_test_prediction.head(5)"
      ],
      "execution_count": 0,
      "outputs": [
        {
          "output_type": "execute_result",
          "data": {
            "text/html": [
              "<div>\n",
              "<style scoped>\n",
              "    .dataframe tbody tr th:only-of-type {\n",
              "        vertical-align: middle;\n",
              "    }\n",
              "\n",
              "    .dataframe tbody tr th {\n",
              "        vertical-align: top;\n",
              "    }\n",
              "\n",
              "    .dataframe thead th {\n",
              "        text-align: right;\n",
              "    }\n",
              "</style>\n",
              "<table border=\"1\" class=\"dataframe\">\n",
              "  <thead>\n",
              "    <tr style=\"text-align: right;\">\n",
              "      <th></th>\n",
              "      <th>MEDV</th>\n",
              "      <th>lr_prediction</th>\n",
              "      <th>rfr_prediction</th>\n",
              "      <th>svm_prediction</th>\n",
              "    </tr>\n",
              "  </thead>\n",
              "  <tbody>\n",
              "    <tr>\n",
              "      <th>0</th>\n",
              "      <td>19.4</td>\n",
              "      <td>23.748427</td>\n",
              "      <td>20.917</td>\n",
              "      <td>28.688479</td>\n",
              "    </tr>\n",
              "    <tr>\n",
              "      <th>1</th>\n",
              "      <td>19.7</td>\n",
              "      <td>15.316862</td>\n",
              "      <td>17.347</td>\n",
              "      <td>20.012040</td>\n",
              "    </tr>\n",
              "    <tr>\n",
              "      <th>2</th>\n",
              "      <td>50.0</td>\n",
              "      <td>9.233145</td>\n",
              "      <td>15.647</td>\n",
              "      <td>17.032285</td>\n",
              "    </tr>\n",
              "    <tr>\n",
              "      <th>3</th>\n",
              "      <td>24.5</td>\n",
              "      <td>19.217745</td>\n",
              "      <td>19.769</td>\n",
              "      <td>20.106698</td>\n",
              "    </tr>\n",
              "    <tr>\n",
              "      <th>4</th>\n",
              "      <td>18.3</td>\n",
              "      <td>18.257080</td>\n",
              "      <td>20.888</td>\n",
              "      <td>20.082906</td>\n",
              "    </tr>\n",
              "  </tbody>\n",
              "</table>\n",
              "</div>"
            ],
            "text/plain": [
              "   MEDV  lr_prediction  rfr_prediction  svm_prediction\n",
              "0  19.4      23.748427          20.917       28.688479\n",
              "1  19.7      15.316862          17.347       20.012040\n",
              "2  50.0       9.233145          15.647       17.032285\n",
              "3  24.5      19.217745          19.769       20.106698\n",
              "4  18.3      18.257080          20.888       20.082906"
            ]
          },
          "metadata": {
            "tags": []
          },
          "execution_count": 49
        }
      ]
    },
    {
      "cell_type": "code",
      "metadata": {
        "id": "2te_DKw2UR6H",
        "colab_type": "code",
        "outputId": "afcb7f78-f6e3-415e-81d0-39582d0b745c",
        "colab": {
          "base_uri": "https://localhost:8080/",
          "height": 34
        }
      },
      "source": [
        "mean_squared_error(boston_test_prediction['MEDV'], boston_test_prediction['lr_prediction'])"
      ],
      "execution_count": 0,
      "outputs": [
        {
          "output_type": "execute_result",
          "data": {
            "text/plain": [
              "53.763598774690834"
            ]
          },
          "metadata": {
            "tags": []
          },
          "execution_count": 50
        }
      ]
    },
    {
      "cell_type": "code",
      "metadata": {
        "id": "TelPPTbgUYIh",
        "colab_type": "code",
        "outputId": "4b54ca86-2977-4ec0-c215-1d197bb7da52",
        "colab": {
          "base_uri": "https://localhost:8080/",
          "height": 34
        }
      },
      "source": [
        "mean_squared_error(boston_test_prediction['MEDV'], boston_test_prediction['rfr_prediction'])"
      ],
      "execution_count": 0,
      "outputs": [
        {
          "output_type": "execute_result",
          "data": {
            "text/plain": [
              "62.643516334520676"
            ]
          },
          "metadata": {
            "tags": []
          },
          "execution_count": 51
        }
      ]
    },
    {
      "cell_type": "code",
      "metadata": {
        "id": "rc4NlRgfUYki",
        "colab_type": "code",
        "outputId": "bc3e14d5-d705-4542-dfaf-73cd889ad06f",
        "colab": {
          "base_uri": "https://localhost:8080/",
          "height": 34
        }
      },
      "source": [
        "mean_squared_error(boston_test_prediction['MEDV'], boston_test_prediction['svm_prediction'])"
      ],
      "execution_count": 0,
      "outputs": [
        {
          "output_type": "execute_result",
          "data": {
            "text/plain": [
              "74.73617098493956"
            ]
          },
          "metadata": {
            "tags": []
          },
          "execution_count": 52
        }
      ]
    },
    {
      "cell_type": "markdown",
      "metadata": {
        "id": "M3tzZDIMDukz",
        "colab_type": "text"
      },
      "source": [
        "## Model Tuning & Optimization"
      ]
    },
    {
      "cell_type": "markdown",
      "metadata": {
        "id": "Lkzs11TfU5SB",
        "colab_type": "text"
      },
      "source": [
        "Most models give you control on the paramters for building the model. We built default models till now, lets take a look at one example where we build a similar model with different parameters and see how this affects the accuracy."
      ]
    },
    {
      "cell_type": "code",
      "metadata": {
        "id": "IZ0bmKU4VW4P",
        "colab_type": "code",
        "outputId": "43f3ceed-0bf5-4479-da8e-c9a1ad71eb8a",
        "colab": {
          "base_uri": "https://localhost:8080/",
          "height": 258
        }
      },
      "source": [
        "#Create the model object and train\n",
        "logr_v2 = LogisticRegression(max_iter=500,fit_intercept=False)\n",
        "logr_v2.fit(iris_train_features, iris_train_labels)\n",
        "\n",
        "#Predictions on the Test data\n",
        "predictions_logr_v2 = logr_v2.predict(iris_test_features)\n",
        "\n",
        "#Getting the probabilities for these predictions\n",
        "predictions_probability_logr_v2 = logr_v2.predict_proba(iris_test_features)[:, 1]\n",
        "\n",
        "#Putting the above predictions and probabilities together to create a readable df\n",
        "logr_v2_df = pd.DataFrame(predictions_logr_v2.reshape(len(predictions_logr_v2),1))\n",
        "logr_v2_df.rename(columns={0:'logr_v2_prediction'}, inplace=True)\n",
        "logr_v2_df['logr_v2_probability'] = predictions_probability_logr_v2\n",
        "logr_v2_df.head(5)"
      ],
      "execution_count": 0,
      "outputs": [
        {
          "output_type": "stream",
          "text": [
            "/usr/local/lib/python3.6/dist-packages/sklearn/utils/validation.py:760: DataConversionWarning: A column-vector y was passed when a 1d array was expected. Please change the shape of y to (n_samples, ), for example using ravel().\n",
            "  y = column_or_1d(y, warn=True)\n"
          ],
          "name": "stderr"
        },
        {
          "output_type": "execute_result",
          "data": {
            "text/html": [
              "<div>\n",
              "<style scoped>\n",
              "    .dataframe tbody tr th:only-of-type {\n",
              "        vertical-align: middle;\n",
              "    }\n",
              "\n",
              "    .dataframe tbody tr th {\n",
              "        vertical-align: top;\n",
              "    }\n",
              "\n",
              "    .dataframe thead th {\n",
              "        text-align: right;\n",
              "    }\n",
              "</style>\n",
              "<table border=\"1\" class=\"dataframe\">\n",
              "  <thead>\n",
              "    <tr style=\"text-align: right;\">\n",
              "      <th></th>\n",
              "      <th>logr_v2_prediction</th>\n",
              "      <th>logr_v2_probability</th>\n",
              "    </tr>\n",
              "  </thead>\n",
              "  <tbody>\n",
              "    <tr>\n",
              "      <th>0</th>\n",
              "      <td>0</td>\n",
              "      <td>0.022933</td>\n",
              "    </tr>\n",
              "    <tr>\n",
              "      <th>1</th>\n",
              "      <td>1</td>\n",
              "      <td>0.867029</td>\n",
              "    </tr>\n",
              "    <tr>\n",
              "      <th>2</th>\n",
              "      <td>1</td>\n",
              "      <td>0.641298</td>\n",
              "    </tr>\n",
              "    <tr>\n",
              "      <th>3</th>\n",
              "      <td>2</td>\n",
              "      <td>0.168201</td>\n",
              "    </tr>\n",
              "    <tr>\n",
              "      <th>4</th>\n",
              "      <td>2</td>\n",
              "      <td>0.488959</td>\n",
              "    </tr>\n",
              "  </tbody>\n",
              "</table>\n",
              "</div>"
            ],
            "text/plain": [
              "   logr_v2_prediction  logr_v2_probability\n",
              "0                   0             0.022933\n",
              "1                   1             0.867029\n",
              "2                   1             0.641298\n",
              "3                   2             0.168201\n",
              "4                   2             0.488959"
            ]
          },
          "metadata": {
            "tags": []
          },
          "execution_count": 53
        }
      ]
    },
    {
      "cell_type": "code",
      "metadata": {
        "id": "M13UOWTzVm4H",
        "colab_type": "code",
        "outputId": "e2ca6df5-6f60-499d-a083-f2a20aaceea5",
        "colab": {
          "base_uri": "https://localhost:8080/",
          "height": 204
        }
      },
      "source": [
        "#Concatonating the predictions of decision tree to the iris_test dataset\n",
        "iris_test_prediction = pd.concat([iris_test_prediction, logr_v2_df], axis=1)\n",
        "iris_test_prediction.head(5)"
      ],
      "execution_count": 0,
      "outputs": [
        {
          "output_type": "execute_result",
          "data": {
            "text/html": [
              "<div>\n",
              "<style scoped>\n",
              "    .dataframe tbody tr th:only-of-type {\n",
              "        vertical-align: middle;\n",
              "    }\n",
              "\n",
              "    .dataframe tbody tr th {\n",
              "        vertical-align: top;\n",
              "    }\n",
              "\n",
              "    .dataframe thead th {\n",
              "        text-align: right;\n",
              "    }\n",
              "</style>\n",
              "<table border=\"1\" class=\"dataframe\">\n",
              "  <thead>\n",
              "    <tr style=\"text-align: right;\">\n",
              "      <th></th>\n",
              "      <th>species</th>\n",
              "      <th>gnb_prediction</th>\n",
              "      <th>gnb_probability</th>\n",
              "      <th>dt_prediction</th>\n",
              "      <th>dt_probability</th>\n",
              "      <th>logr_prediction</th>\n",
              "      <th>logr_probability</th>\n",
              "      <th>logr_v2_prediction</th>\n",
              "      <th>logr_v2_probability</th>\n",
              "    </tr>\n",
              "  </thead>\n",
              "  <tbody>\n",
              "    <tr>\n",
              "      <th>0</th>\n",
              "      <td>0</td>\n",
              "      <td>0</td>\n",
              "      <td>4.332609e-15</td>\n",
              "      <td>0</td>\n",
              "      <td>0.0</td>\n",
              "      <td>0</td>\n",
              "      <td>0.042637</td>\n",
              "      <td>0</td>\n",
              "      <td>0.022933</td>\n",
              "    </tr>\n",
              "    <tr>\n",
              "      <th>1</th>\n",
              "      <td>1</td>\n",
              "      <td>2</td>\n",
              "      <td>2.781348e-01</td>\n",
              "      <td>1</td>\n",
              "      <td>1.0</td>\n",
              "      <td>1</td>\n",
              "      <td>0.686638</td>\n",
              "      <td>1</td>\n",
              "      <td>0.867029</td>\n",
              "    </tr>\n",
              "    <tr>\n",
              "      <th>2</th>\n",
              "      <td>1</td>\n",
              "      <td>1</td>\n",
              "      <td>9.997362e-01</td>\n",
              "      <td>1</td>\n",
              "      <td>1.0</td>\n",
              "      <td>1</td>\n",
              "      <td>0.885200</td>\n",
              "      <td>1</td>\n",
              "      <td>0.641298</td>\n",
              "    </tr>\n",
              "    <tr>\n",
              "      <th>3</th>\n",
              "      <td>2</td>\n",
              "      <td>2</td>\n",
              "      <td>4.338009e-07</td>\n",
              "      <td>2</td>\n",
              "      <td>0.0</td>\n",
              "      <td>2</td>\n",
              "      <td>0.064810</td>\n",
              "      <td>2</td>\n",
              "      <td>0.168201</td>\n",
              "    </tr>\n",
              "    <tr>\n",
              "      <th>4</th>\n",
              "      <td>1</td>\n",
              "      <td>1</td>\n",
              "      <td>8.673996e-01</td>\n",
              "      <td>2</td>\n",
              "      <td>0.0</td>\n",
              "      <td>1</td>\n",
              "      <td>0.553860</td>\n",
              "      <td>2</td>\n",
              "      <td>0.488959</td>\n",
              "    </tr>\n",
              "  </tbody>\n",
              "</table>\n",
              "</div>"
            ],
            "text/plain": [
              "   species  gnb_prediction  ...  logr_v2_prediction  logr_v2_probability\n",
              "0        0               0  ...                   0             0.022933\n",
              "1        1               2  ...                   1             0.867029\n",
              "2        1               1  ...                   1             0.641298\n",
              "3        2               2  ...                   2             0.168201\n",
              "4        1               1  ...                   2             0.488959\n",
              "\n",
              "[5 rows x 9 columns]"
            ]
          },
          "metadata": {
            "tags": []
          },
          "execution_count": 55
        }
      ]
    },
    {
      "cell_type": "code",
      "metadata": {
        "id": "d3Moc1VLVxKY",
        "colab_type": "code",
        "outputId": "d5483b06-ea77-408e-d727-6e50c1f7095e",
        "colab": {
          "base_uri": "https://localhost:8080/",
          "height": 34
        }
      },
      "source": [
        "accuracy_score(iris_test_prediction['species'], iris_test_prediction['logr_prediction'])"
      ],
      "execution_count": 0,
      "outputs": [
        {
          "output_type": "execute_result",
          "data": {
            "text/plain": [
              "0.9666666666666667"
            ]
          },
          "metadata": {
            "tags": []
          },
          "execution_count": 56
        }
      ]
    },
    {
      "cell_type": "code",
      "metadata": {
        "id": "IMLbsGhDVw3F",
        "colab_type": "code",
        "outputId": "eb6a28df-7723-49f4-a15c-2d34db979e59",
        "colab": {
          "base_uri": "https://localhost:8080/",
          "height": 34
        }
      },
      "source": [
        "accuracy_score(iris_test_prediction['species'], iris_test_prediction['logr_v2_prediction'])"
      ],
      "execution_count": 0,
      "outputs": [
        {
          "output_type": "execute_result",
          "data": {
            "text/plain": [
              "0.9"
            ]
          },
          "metadata": {
            "tags": []
          },
          "execution_count": 57
        }
      ]
    },
    {
      "cell_type": "markdown",
      "metadata": {
        "id": "ROw3QAndXGY2",
        "colab_type": "text"
      },
      "source": [
        "Addition of max_iter and fit_intercept parameters changed the way the model was trained, and therefore changed the predictions it generated.\n",
        "\n",
        "**EXERCISE: For the models built, look up the official sklearn documentation and see how change in paramters affect the model performance.**"
      ]
    },
    {
      "cell_type": "markdown",
      "metadata": {
        "id": "sGE0CXsADzwn",
        "colab_type": "text"
      },
      "source": [
        "## Model Selection"
      ]
    },
    {
      "cell_type": "markdown",
      "metadata": {
        "id": "39hdWBdEXZ-F",
        "colab_type": "text"
      },
      "source": [
        "The model with the best performance metric should be selected. In this case, we are writing a function that compares the accuracy metrics of multiple models and return the one with the highest accuracy metric."
      ]
    },
    {
      "cell_type": "code",
      "metadata": {
        "id": "2yNnNQT2X41X",
        "colab_type": "code",
        "colab": {}
      },
      "source": [
        "def maxAccuracy(df, actual_value, model_pred_list):\n",
        "  max_model = ''\n",
        "  max_accuracy = 0\n",
        "  for model in model_pred_list:\n",
        "    acc = accuracy_score(df[actual_value], df[model])\n",
        "    if acc > max_accuracy:\n",
        "      max_model = model\n",
        "      max_accuracy = acc\n",
        "\n",
        "  print(\"MAX: \" + max_model + \" - \" + str(max_accuracy))"
      ],
      "execution_count": 0,
      "outputs": []
    },
    {
      "cell_type": "code",
      "metadata": {
        "id": "bsmK0Y8eYs89",
        "colab_type": "code",
        "outputId": "29bc41d6-0f7c-489c-b9b4-c422cb4a36f0",
        "colab": {
          "base_uri": "https://localhost:8080/",
          "height": 34
        }
      },
      "source": [
        "maxAccuracy(iris_test_prediction,'species',['gnb_prediction','dt_prediction','logr_prediction','logr_v2_prediction'])"
      ],
      "execution_count": 0,
      "outputs": [
        {
          "output_type": "stream",
          "text": [
            "MAX: logr_prediction - 0.9666666666666667\n"
          ],
          "name": "stdout"
        }
      ]
    },
    {
      "cell_type": "markdown",
      "metadata": {
        "id": "0a3IkNsiY6sK",
        "colab_type": "text"
      },
      "source": [
        "**EXERCISE: Write a similar function to find the best regression model (minimize the RMSE)**"
      ]
    }
  ]
}